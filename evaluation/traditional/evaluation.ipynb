{
 "cells": [
  {
   "cell_type": "code",
   "execution_count": 1,
   "metadata": {},
   "outputs": [],
   "source": [
    "# SETUP\n",
    "import matplotlib.pyplot as plt\n",
    "from sklearn.metrics import PrecisionRecallDisplay\n",
    "import numpy as np\n",
    "import json\n",
    "import requests\n",
    "import pandas as pd"
   ]
  },
  {
   "cell_type": "code",
   "execution_count": 28,
   "metadata": {},
   "outputs": [],
   "source": [
    "#QRELS_FILE = 'q4_rels.txt' # 5 --> 4\n",
    "#QUERY_URL = 'http://localhost:8983/solr/trial_book/query?q=nightwing%20OR%20batman&q.op=OR&defType=edismax&indent=true&qf=title%20description&wt=json' #nightwing\n",
    "#QUERY_URL_BOOST = 'http://localhost:8983/solr/trial_book/query?q=nightwing%20OR%20batman&q.op=OR&defType=edismax&indent=true&qf=title%20description&bq=title:batman*&wt=json'\n",
    "\n",
    "QRELS_FILE = 'q6_qrels.txt' # 6\n",
    "QUERY_URL = 'http://localhost:8983/solr/trial_book/query?q=%5B4%20TO%205%5D%20Thriller&q.op=OR&defType=edismax&indent=true&lowercaseOperators=false&rows=20&qf=rating%20genre&wt=json' #rating and thriller\n",
    "QUERY_URL_BOOST = 'http://localhost:8983/solr/trial_book/query?q=%5B4%20TO%205%5D%20Thriller&q.op=OR&defType=edismax&indent=true&lowercaseOperators=false&rows=20&qf=rating%5E10%20genre%5E20&wt=json' #rating and thriller\n",
    "\n",
    "#QRELS_FILE = 'q5_rels.txt' # 7 --> 5\n",
    "#QUERY_URL = 'http://localhost:8983/solr/trial_book/query?q=written%20women~1&q.op=OR&defType=edismax&indent=true&qf=description%20review&wt=json' #written by or for women\n",
    "#QUERY_URL_BOOST = 'http://localhost:8983/solr/trial_book/query?q=written%20women~1&q.op=OR&defType=edismax&indent=true&qf=description%5E10%20review&wt=json'\n"
   ]
  },
  {
   "cell_type": "code",
   "execution_count": 29,
   "metadata": {},
   "outputs": [
    {
     "ename": "FileNotFoundError",
     "evalue": "[Errno 2] No such file or directory: 'q6_qrels.txt'",
     "output_type": "error",
     "traceback": [
      "\u001b[1;31m---------------------------------------------------------------------------\u001b[0m",
      "\u001b[1;31mFileNotFoundError\u001b[0m                         Traceback (most recent call last)",
      "Cell \u001b[1;32mIn [29], line 2\u001b[0m\n\u001b[0;32m      1\u001b[0m \u001b[39m# Read qrels to extract relevant documents\u001b[39;00m\n\u001b[1;32m----> 2\u001b[0m relevant \u001b[39m=\u001b[39m \u001b[39mlist\u001b[39m(\u001b[39mmap\u001b[39m(\u001b[39mlambda\u001b[39;00m el: el\u001b[39m.\u001b[39mstrip(), \u001b[39mopen\u001b[39;49m(QRELS_FILE)\u001b[39m.\u001b[39mreadlines()))\n\u001b[0;32m      3\u001b[0m \u001b[39m# Get query results from Solr instance\u001b[39;00m\n\u001b[0;32m      4\u001b[0m normal_results \u001b[39m=\u001b[39m requests\u001b[39m.\u001b[39mget(QUERY_URL)\u001b[39m.\u001b[39mjson()[\u001b[39m'\u001b[39m\u001b[39mresponse\u001b[39m\u001b[39m'\u001b[39m][\u001b[39m'\u001b[39m\u001b[39mdocs\u001b[39m\u001b[39m'\u001b[39m]\n",
      "\u001b[1;31mFileNotFoundError\u001b[0m: [Errno 2] No such file or directory: 'q6_qrels.txt'"
     ]
    }
   ],
   "source": [
    "# Read qrels to extract relevant documents\n",
    "relevant = list(map(lambda el: el.strip(), open(QRELS_FILE).readlines()))\n",
    "# Get query results from Solr instance\n",
    "normal_results = requests.get(QUERY_URL).json()['response']['docs']\n",
    "boosted_results = requests.get(QUERY_URL_BOOST).json()['response']['docs']"
   ]
  },
  {
   "cell_type": "code",
   "execution_count": 26,
   "metadata": {},
   "outputs": [
    {
     "name": "stderr",
     "output_type": "stream",
     "text": [
      "C:\\Users\\melis\\AppData\\Local\\Temp\\ipykernel_10884\\4117469048.py:42: FutureWarning: In future versions `DataFrame.to_latex` is expected to utilise the base implementation of `Styler.to_latex` for formatting and rendering. The arguments signature may therefore change. It is recommended instead to use `DataFrame.style.to_latex` which also contains additional functionality.\n",
      "  tf.write(df.to_latex())\n"
     ]
    }
   ],
   "source": [
    "# METRICS TABLE\n",
    "# Define custom decorator to automatically calculate metric based on key\n",
    "metrics = {}\n",
    "metric = lambda f: metrics.setdefault(f.__name__, f)\n",
    "\n",
    "@metric\n",
    "def ap(results, relevant):\n",
    "    \"\"\"Average Precision\"\"\"\n",
    "    precision_values = [\n",
    "        len([\n",
    "            doc \n",
    "            for doc in results[:idx]\n",
    "            if doc['id'] in relevant\n",
    "        ]) / idx \n",
    "        for idx in range(1, len(results))\n",
    "    ]\n",
    "    return sum(precision_values)/len(precision_values)\n",
    "\n",
    "@metric\n",
    "def p10(results, relevant, n=10):\n",
    "    \"\"\"Precision at N\"\"\"\n",
    "    return len([doc for doc in results[:n] if doc['id'] in relevant])/n\n",
    "\n",
    "def calculate_metric(key, results, relevant):\n",
    "    return metrics[key](results, relevant)\n",
    "\n",
    "# Define metrics to be calculated\n",
    "evaluation_metrics = {\n",
    "    'ap': 'Average Precision',\n",
    "    'p10': 'Precision at 10 (P@10)'\n",
    "}\n",
    "\n",
    "# Calculate all metrics and export results as LaTeX table\n",
    "df = pd.DataFrame([['Metric','Value']] +\n",
    "    [\n",
    "        [evaluation_metrics[m], calculate_metric(m, boosted_results, relevant)]\n",
    "        for m in evaluation_metrics\n",
    "    ]\n",
    ")\n",
    "\n",
    "with open('boosted_schema_q4_python.tex','w') as tf:\n",
    "    tf.write(df.to_latex())\n"
   ]
  },
  {
   "cell_type": "code",
   "execution_count": 27,
   "metadata": {},
   "outputs": [
    {
     "data": {
      "image/png": "[encoded data removed]",
      "text/plain": [
       "<Figure size 640x480 with 1 Axes>"
      ]
     },
     "metadata": {},
     "output_type": "display_data"
    }
   ],
   "source": [
    "# PRECISION-RECALL CURVE\n",
    "# Calculate precision and recall values as we move down the ranked list\n",
    "precision_values = [\n",
    "    len([\n",
    "        doc \n",
    "        for doc in boosted_results[:idx]\n",
    "        if doc['id'] in relevant\n",
    "    ]) / idx \n",
    "    for idx, _ in enumerate(boosted_results, start=1)\n",
    "]\n",
    "\n",
    "recall_values = [\n",
    "    len([\n",
    "        doc for doc in boosted_results[:idx]\n",
    "        if doc['id'] in relevant\n",
    "    ]) / len(relevant)\n",
    "    for idx, _ in enumerate(boosted_results, start=1)\n",
    "]\n",
    "\n",
    "precision_recall_match = {k: v for k,v in zip(recall_values, precision_values)}\n",
    "\n",
    "# Extend recall_values to include traditional steps for a better curve (0.1, 0.2 ...)\n",
    "recall_values.extend([step for step in np.arange(0.1, 1.1, 0.1) if step not in recall_values])\n",
    "recall_values = sorted(set(recall_values))\n",
    "\n",
    "# Extend matching dict to include these new intermediate steps\n",
    "for idx, step in enumerate(recall_values):\n",
    "    if step not in precision_recall_match:\n",
    "        if recall_values[idx-1] in precision_recall_match:\n",
    "            precision_recall_match[step] = precision_recall_match[recall_values[idx-1]]\n",
    "        else:\n",
    "            precision_recall_match[step] = precision_recall_match[recall_values[idx+1]]\n",
    "\n",
    "disp = PrecisionRecallDisplay([precision_recall_match.get(r) for r in recall_values], recall_values)\n",
    "disp.plot()\n",
    "plt.savefig('precision_recall_boosted_schema_q4_python.png')"
   ]
  }
 ],
 "metadata": {
  "kernelspec": {
   "display_name": "Python 3.9.13 64-bit (microsoft store)",
   "language": "python",
   "name": "python3"
  },
  "language_info": {
   "codemirror_mode": {
    "name": "ipython",
    "version": 3
   },
   "file_extension": ".py",
   "mimetype": "text/x-python",
   "name": "python",
   "nbconvert_exporter": "python",
   "pygments_lexer": "ipython3",
   "version": "3.9.13"
  },
  "orig_nbformat": 4,
  "vscode": {
   "interpreter": {
    "hash": "bfdafa545f090f477f4073918875fa08440a91c7c53d3eb126dec86f72269011"
   }
  }
 },
 "nbformat": 4,
 "nbformat_minor": 2
}
