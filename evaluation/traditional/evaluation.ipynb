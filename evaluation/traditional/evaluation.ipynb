{
 "cells": [
  {
   "cell_type": "code",
   "execution_count": 1,
   "metadata": {},
   "outputs": [],
   "source": [
    "# SETUP\n",
    "import matplotlib.pyplot as plt\n",
    "from sklearn.metrics import PrecisionRecallDisplay\n",
    "import numpy as np\n",
    "import json\n",
    "import requests\n",
    "import pandas as pd"
   ]
  },
  {
   "cell_type": "code",
   "execution_count": 2,
   "metadata": {},
   "outputs": [],
   "source": [
    "QRELS_FILE = 'nightwing_qrels.txt' #nightwing\n",
    "QUERY_URL = 'http://localhost:8983/solr/books/query?q=nightwing&q.op=OR&defType=edismax&indent=true&qf=title%5E10%20description%5E5&bq=title:Batman&wt=json' #nightwing"
   ]
  },
  {
   "cell_type": "code",
   "execution_count": 3,
   "metadata": {},
   "outputs": [],
   "source": [
    "# Read qrels to extract relevant documents\n",
    "relevant = list(map(lambda el: el.strip(), open(QRELS_FILE).readlines()))\n",
    "# Get query results from Solr instance\n",
    "results = requests.get(QUERY_URL).json()['response']['docs']"
   ]
  },
  {
   "cell_type": "code",
   "execution_count": 4,
   "metadata": {},
   "outputs": [
    {
     "name": "stderr",
     "output_type": "stream",
     "text": [
      "C:\\Users\\melis\\AppData\\Local\\Temp\\ipykernel_1484\\1804638009.py:42: FutureWarning: In future versions `DataFrame.to_latex` is expected to utilise the base implementation of `Styler.to_latex` for formatting and rendering. The arguments signature may therefore change. It is recommended instead to use `DataFrame.style.to_latex` which also contains additional functionality.\n",
      "  tf.write(df.to_latex())\n"
     ]
    }
   ],
   "source": [
    "# METRICS TABLE\n",
    "# Define custom decorator to automatically calculate metric based on key\n",
    "metrics = {}\n",
    "metric = lambda f: metrics.setdefault(f.__name__, f)\n",
    "\n",
    "@metric\n",
    "def ap(results, relevant):\n",
    "    \"\"\"Average Precision\"\"\"\n",
    "    precision_values = [\n",
    "        len([\n",
    "            doc \n",
    "            for doc in results[:idx]\n",
    "            if doc['id'] in relevant\n",
    "        ]) / idx \n",
    "        for idx in range(1, len(results))\n",
    "    ]\n",
    "    return sum(precision_values)/len(precision_values)\n",
    "\n",
    "@metric\n",
    "def p10(results, relevant, n=10):\n",
    "    \"\"\"Precision at N\"\"\"\n",
    "    return len([doc for doc in results[:n] if doc['id'] in relevant])/n\n",
    "\n",
    "def calculate_metric(key, results, relevant):\n",
    "    return metrics[key](results, relevant)\n",
    "\n",
    "# Define metrics to be calculated\n",
    "evaluation_metrics = {\n",
    "    'ap': 'Average Precision',\n",
    "    'p10': 'Precision at 10 (P@10)'\n",
    "}\n",
    "\n",
    "# Calculate all metrics and export results as LaTeX table\n",
    "df = pd.DataFrame([['Metric','Value']] +\n",
    "    [\n",
    "        [evaluation_metrics[m], calculate_metric(m, results, relevant)]\n",
    "        for m in evaluation_metrics\n",
    "    ]\n",
    ")\n",
    "\n",
    "with open('results.tex','w') as tf:\n",
    "    tf.write(df.to_latex())\n"
   ]
  },
  {
   "cell_type": "code",
   "execution_count": 5,
   "metadata": {},
   "outputs": [
    {
     "data": {
      "image/png": "[encoded data removed]",
      "text/plain": [
       "<Figure size 640x480 with 1 Axes>"
      ]
     },
     "metadata": {},
     "output_type": "display_data"
    }
   ],
   "source": [
    "# PRECISION-RECALL CURVE\n",
    "# Calculate precision and recall values as we move down the ranked list\n",
    "precision_values = [\n",
    "    len([\n",
    "        doc \n",
    "        for doc in results[:idx]\n",
    "        if doc['id'] in relevant\n",
    "    ]) / idx \n",
    "    for idx, _ in enumerate(results, start=1)\n",
    "]\n",
    "\n",
    "recall_values = [\n",
    "    len([\n",
    "        doc for doc in results[:idx]\n",
    "        if doc['id'] in relevant\n",
    "    ]) / len(relevant)\n",
    "    for idx, _ in enumerate(results, start=1)\n",
    "]\n",
    "\n",
    "precision_recall_match = {k: v for k,v in zip(recall_values, precision_values)}\n",
    "\n",
    "# Extend recall_values to include traditional steps for a better curve (0.1, 0.2 ...)\n",
    "recall_values.extend([step for step in np.arange(0.1, 1.1, 0.1) if step not in recall_values])\n",
    "recall_values = sorted(set(recall_values))\n",
    "\n",
    "# Extend matching dict to include these new intermediate steps\n",
    "for idx, step in enumerate(recall_values):\n",
    "    if step not in precision_recall_match:\n",
    "        if recall_values[idx-1] in precision_recall_match:\n",
    "            precision_recall_match[step] = precision_recall_match[recall_values[idx-1]]\n",
    "        else:\n",
    "            precision_recall_match[step] = precision_recall_match[recall_values[idx+1]]\n",
    "\n",
    "disp = PrecisionRecallDisplay([precision_recall_match.get(r) for r in recall_values], recall_values)\n",
    "disp.plot()\n",
    "plt.savefig('precision_recall.pdf')"
   ]
  }
 ],
 "metadata": {
  "kernelspec": {
   "display_name": "Python 3.9.13 64-bit (microsoft store)",
   "language": "python",
   "name": "python3"
  },
  "language_info": {
   "codemirror_mode": {
    "name": "ipython",
    "version": 3
   },
   "file_extension": ".py",
   "mimetype": "text/x-python",
   "name": "python",
   "nbconvert_exporter": "python",
   "pygments_lexer": "ipython3",
   "version": "3.9.13"
  },
  "orig_nbformat": 4,
  "vscode": {
   "interpreter": {
    "hash": "bfdafa545f090f477f4073918875fa08440a91c7c53d3eb126dec86f72269011"
   }
  }
 },
 "nbformat": 4,
 "nbformat_minor": 2
}
