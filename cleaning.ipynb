{
 "cells": [
  {
   "cell_type": "code",
   "execution_count": 1,
   "metadata": {},
   "outputs": [],
   "source": [
    "import pandas as pd"
   ]
  },
  {
   "cell_type": "code",
   "execution_count": 2,
   "metadata": {},
   "outputs": [],
   "source": [
    "og = pd.read_csv('data/GoodReads_100k_books.csv')\n",
    "clean_book = pd.read_csv('data/after_encoding/clean_book_data.csv')"
   ]
  },
  {
   "cell_type": "markdown",
   "metadata": {},
   "source": [
    "3 things to clean -> euro symbol in price, bookformat probably needs cleaning and genre (repeats)"
   ]
  },
  {
   "cell_type": "code",
   "execution_count": 23,
   "metadata": {},
   "outputs": [],
   "source": [
    "def removeDuplicates(genre):\n",
    "    genre_list = genre.split(',')\n",
    "    genre_list = list(dict.fromkeys(genre_list))\n",
    "    return ','.join(genre_list)"
   ]
  },
  {
   "cell_type": "code",
   "execution_count": 24,
   "metadata": {},
   "outputs": [
    {
     "data": {
      "text/plain": [
       "0        History,Military History,Civil War,American Hi...\n",
       "1                Couture,Fashion,Historical,Art,Nonfiction\n",
       "2                                         Politics,History\n",
       "3                                            Labor,History\n",
       "4        Business,Leadership,Romance,Historical Romance...\n",
       "                               ...                        \n",
       "72244    Nonfiction,Environment,Nature,Travel,Science,A...\n",
       "72245    Animals,Childrens,Middle Grade,Horses,Fiction,...\n",
       "72246    Christianity,Evangelism,Christian,Religion,The...\n",
       "72247    Nonfiction,History,Biography,Military History,...\n",
       "72248                        Fantasy,Paranormal,Nonfiction\n",
       "Name: genre, Length: 72249, dtype: object"
      ]
     },
     "execution_count": 24,
     "metadata": {},
     "output_type": "execute_result"
    }
   ],
   "source": [
    "clean_book['genre'] = clean_book['genre'].apply(removeDuplicates)\n",
    "clean_book['genre']\n"
   ]
  },
  {
   "cell_type": "code",
   "execution_count": 41,
   "metadata": {},
   "outputs": [
    {
     "data": {
      "text/plain": [
       "0        21,50 €\n",
       "1        38,50 €\n",
       "2            nan\n",
       "3            nan\n",
       "4            nan\n",
       "          ...   \n",
       "72244        nan\n",
       "72245        nan\n",
       "72246        nan\n",
       "72247        nan\n",
       "72248    22,04 €\n",
       "Name: price, Length: 72249, dtype: object"
      ]
     },
     "execution_count": 41,
     "metadata": {},
     "output_type": "execute_result"
    }
   ],
   "source": [
    "for i in clean_book.index:\n",
    "    clean_book.loc[i,'price']=str(clean_book.loc[i,'price']).replace('�','€')\n",
    "\n",
    "clean_book['price']"
   ]
  },
  {
   "cell_type": "code",
   "execution_count": 42,
   "metadata": {},
   "outputs": [
    {
     "data": {
      "text/plain": [
       "array(['Hardcover', 'Paperback', 'Audiobook', 'Mass Market Paperback',\n",
       "       'Textbook', 'Board Book', 'Turtleback', 'Ebook', 'Unknown Binding',\n",
       "       'Hardback', 'Audio Cd', 'Audio', 'Spiral-Bound', 'Boxed Set',\n",
       "       'Other Format', 'Trade Paperback', 'Novelty Book',\n",
       "       'Audio Cassette', 'Unbound', 'Library Binding', 'Comic',\n",
       "       'Dvd (Ntsc)', 'Mp3 Book', 'Pamphlet', 'Slipcased Hardcover',\n",
       "       'Comics', 'Spiral', 'Broschiert', 'Paper', 'Mp3 Cd', 'Flexibound',\n",
       "       'Game', 'Cards', 'Broché', 'Deck Of 78 Tarot Cards', 'Mass_Market',\n",
       "       'Plastic Comb', 'Pasta Dura', 'Mass Market', '文庫',\n",
       "       'Perfect Paperback', 'Kindle Edition', 'Audio Play', 'Capa Dura',\n",
       "       'Paperback W/ Cd', 'Taschenbuch', 'Audible Audio', 'Leather Bound',\n",
       "       'コミック', 'Boxed Set - Hardcover', 'Poche', 'Paperback Manga',\n",
       "       'Nook', 'Relié', 'Audiocd', 'Illustrated Book And Cd Set', 'Dvd',\n",
       "       'Board Books', 'Kindle Edition With Audio/Video', 'Cd-Rom',\n",
       "       'Hardcover In Dust Jacket', 'Map', 'Capa Comum',\n",
       "       'Paperback With Cd Rom', 'Cloth Hardcover', 'Board', 'Softcover',\n",
       "       'Perfect', 'Misc. Supplies', 'Soft Cover', 'Light Novel',\n",
       "       'Hardcover, Slipcased', 'Loose Leaf', 'Gebunden', 'Spiral=Bound',\n",
       "       'Cloth', 'Over-Sized 12\"W X 16\"H Hardcover', 'Textbook Binding',\n",
       "       'Pocket', 'Sewn Paperback With Dust Jacket', '78 Card Tarot Deck',\n",
       "       'Pasta Blanda', 'Diary', 'Tarot Deck & Book', 'Sheet Music',\n",
       "       'Flash Movie Webcast', 'Looseleaf', 'Saddle-Stitched Paperback',\n",
       "       'Gebundene Ausgabe', 'Hardcover, Paperback', '3-Ring Binder',\n",
       "       'Ringbound', 'Paperback With Deck Of Cards', '単行本', 'Brochura',\n",
       "       'Bookprint', 'Boxed Collection', 'Paperback And Deluxe Hardcover',\n",
       "       'Hardcover ', 'Library', 'Tarot Cards & Book',\n",
       "       'Tarot Deck And Booklet', 'Inbunden', 'Tarot Deck & Booklet',\n",
       "       'Webtoon', '120 X 190 Mm', 'Casebound'], dtype=object)"
      ]
     },
     "execution_count": 42,
     "metadata": {},
     "output_type": "execute_result"
    }
   ],
   "source": [
    "clean_book['bookformat'] = clean_book['bookformat'].str.title()\n",
    "clean_book['bookformat'].unique()"
   ]
  },
  {
   "cell_type": "markdown",
   "metadata": {},
   "source": [
    "- Hardcover == Hardback == Pasta Dura == Capa Dura == Relié == Hardcover In Dust Jacket == Cloth Hardcover == Cloth == Hardcover, Slipcased == Over-Sized 12\"W X 16\"H Hardcover == Gebunden ==  'Hardcover ' == Gebundene Ausgabe == 単行本 == Inbunden == Casebound\n",
    "- Paperback == Broschiert == Broché == Perfect Paperback == 文庫 == Capa Comum == Perfect == Sewn Paperback With Dust Jacket == Pasta Blanda == Saddle-Stitched Paperback == 120 X 190 Mm\n",
    "- Paperback And Deluxe Hardcover == Hardcover, Paperback\n",
    "- Mass Market Paperback == Mass_Market == Mass Market\n",
    "- Textbook == Textbook Binding'\n",
    "- Board Book == Board == Board Books\n",
    "- Turtleback\n",
    "- Ebook == Nook \n",
    "- Unknown Binding\n",
    "- Audio Cd == Audio == Audio Cassette == Mp3 Book == Mp3 Cd == Audio Play == Audible Audio == Audiocd == Cd-Rom == Kindle Edition With Audio/Video == Audiobook\n",
    "- Spiral-Bound == Spiral == Spiral=Bound\n",
    "- Boxed Set == Boxed Set - Hardcover == Bookprint == Boxed Collection\n",
    "- Other Format\n",
    "- Trade Paperback\n",
    "- Novelty Book\n",
    "- Unbound\n",
    "- Library Binding == Library\n",
    "- Comic == Comics == コミック\n",
    "- Dvd == Dvd (Ntsc)\n",
    "- Pamphlet == Brochura\n",
    "- Flexibound\n",
    "- Game\n",
    "- Paperback With Deck Of Cards\n",
    "- Cards\n",
    "- Deck Of 78 Tarot Cards == 78 Card Tarot Deck\n",
    "- Plastic Comb\n",
    "- Kindle Edition\n",
    "- Leather Bound\n",
    "- Paperback W/ Cd == Paperback With Cd Rom\n",
    "- Taschenbuch (pocket book) == Poche == Softcover == Soft Cover == Pocket\n",
    "- Paperback Manga\n",
    "- Illustrated Book And Cd Set\n",
    "- Map\n",
    "- Misc. Supplies\n",
    "- Light Novel\n",
    "- Loose Leaf == Paper == Looseleaf\n",
    "- Diary\n",
    "- Tarot Deck & Book == Tarot Cards & Book == Tarot Deck And Booklet == Tarot Deck & Booklet\n",
    "- Sheet Music\n",
    "- Flash Movie Webcast\n",
    "- 3-Ring Binder == Ringbound\n",
    "- Webtoon"
   ]
  },
  {
   "cell_type": "code",
   "execution_count": 62,
   "metadata": {},
   "outputs": [],
   "source": [
    "def map_bookformat(bookformat):\n",
    "    if bookformat=='Hardback' or bookformat=='Pasta Dura' or bookformat=='Capa Dura' or bookformat=='Relié' or bookformat=='Hardcover In Dust Jacket' or bookformat=='Hardcover in dust jacket' or bookformat=='Cloth Hardcover' or bookformat=='Cloth' or bookformat=='cloth' or bookformat=='Hardcover, Slipcased' or bookformat=='Over-Sized 12\"W X 16\"H Hardcover' or bookformat=='Gebunden' or bookformat== 'Hardcover ' or bookformat=='Gebundene Ausgabe' or bookformat=='単行本' or bookformat=='Inbunden' or bookformat=='Casebound' or bookformat=='Slipcased Hardcover' or bookformat=='Pasta dura' or bookformat=='hardcover' or bookformat=='Capa dura' or bookformat=='Over-Sized 12\"W x 16\"H Hardcover' or bookformat=='hardback':\n",
    "        return 'Hardcover'\n",
    "    elif bookformat=='Broschiert' or  bookformat== 'Broché' or bookformat=='Perfect Paperback' or bookformat=='perfect' or bookformat=='文庫' or bookformat=='Capa Comum' or bookformat=='Perfect' or bookformat == 'Sewn Paperback With Dust Jacket' or bookformat == 'Pasta Blanda' or bookformat == 'Saddle-Stitched Paperback == 120 X 190 Mm' or bookformat=='paperback' or bookformat=='Capa comum' or bookformat=='Sewn paperback with dust jacket' or bookformat=='Pasta blanda' or bookformat=='Saddle-stitched paperback' or bookformat=='120 x 190 mm':\n",
    "        return 'Paperback'\n",
    "    elif bookformat=='Hardcover, Paperback':\n",
    "        return 'Paperback And Deluxe Hardcover'\n",
    "    elif bookformat=='Mass_Market' or bookformat=='Mass Market' or bookformat=='mass_market':\n",
    "        return 'Mass Market Paperback'\n",
    "    elif bookformat=='Textbook Binding':\n",
    "        return 'Textbook'\n",
    "    elif bookformat=='Board Book' or bookformat=='Board' or bookformat=='Board book':\n",
    "        return 'Board Books'\n",
    "    elif bookformat=='Nook' or bookformat=='Kindle Edition' or bookformat=='ebook':\n",
    "        return 'Ebook'\n",
    "    elif bookformat=='Audio Cd' or bookformat=='Audio' or bookformat=='Audio Cassette' or bookformat == 'Mp3 Book' or bookformat== 'Mp3 Cd' or bookformat == 'Audio Play' or bookformat == 'Audible Audio' or bookformat == 'Audiocd' or bookformat== 'Cd-Rom' or bookformat == 'Kindle Edition With Audio/Video' or bookformat=='Dvd' or bookformat== 'Dvd (Ntsc)' or bookformat=='Audio CD' or bookformat=='DVD (NTSC)' or bookformat=='MP3 Book' or bookformat=='MP3 CD' or bookformat=='DVD' or bookformat=='Kindle Edition with Audio/Video' or bookformat=='CD-ROM':\n",
    "        return 'Audiobook'\n",
    "    elif bookformat=='Spiral' or bookformat=='Spiral=Bound' or bookformat=='spiral=bound':\n",
    "        return 'Spiral-Bound'\n",
    "    elif bookformat=='Boxed Set - Hardcover' or bookformat== 'Bookprint' or bookformat == 'Boxed Collection' or bookformat=='Boxed set':\n",
    "        return 'Boxed Set'\n",
    "    elif bookformat=='Library':\n",
    "        return 'Library Binding'\n",
    "    elif bookformat=='Comic' or bookformat=='コミック':\n",
    "        return 'Comics'\n",
    "    elif bookformat=='Brochura':\n",
    "        return 'Pamphlet'\n",
    "    elif bookformat== '78 Card Tarot Deck':\n",
    "        return 'Deck of 78 Tarot Cards'\n",
    "    elif bookformat=='Paperback W/Cd' or bookformat=='Paperback with Cd Rom' or bookformat=='Paperback w/ CD' or bookformat=='Paperback with CD Rom':\n",
    "        return 'Paperback with CD'\n",
    "    elif bookformat=='Taschenbuch' or bookformat == 'Poche' or bookformat == 'Softcover' or bookformat== 'Soft Cover' or bookformat=='pocket' or bookformat=='soft cover' or bookformat=='softcover':\n",
    "        return 'Pocket'\n",
    "    elif bookformat=='Loose Leaf' or bookformat=='Looseleaf' or bookformat=='paper':\n",
    "        return 'Paper'\n",
    "    elif bookformat=='3-Ring Binder' or bookformat=='3-ring Binder':\n",
    "        return 'Ringbound'\n",
    "    elif bookformat=='Tarot Cards & Book' or bookformat=='Tarot Deck And Booklet' or bookformat== 'Tarot Deck & Booklet' or bookformat=='Tarot Deck and Booklet':\n",
    "        return 'Tarot Deck & Book'\n",
    "    elif bookformat=='Paperback with deck of cards':\n",
    "        return 'Paperback with Deck of Cards'\n",
    "    else:\n",
    "        return bookformat\n",
    "    \n",
    "    \n",
    "    \n",
    "    "
   ]
  },
  {
   "cell_type": "code",
   "execution_count": 64,
   "metadata": {},
   "outputs": [],
   "source": [
    "clean_book['bookformat'] = clean_book['bookformat'].apply(map_bookformat)\n",
    "clean_book['bookformat'].unique()\n",
    "clean_book.to_csv('data/after_encoding/clean_book_data.csv', encoding='utf-8')"
   ]
  }
 ],
 "metadata": {
  "kernelspec": {
   "display_name": "Python 3.9.13 64-bit (microsoft store)",
   "language": "python",
   "name": "python3"
  },
  "language_info": {
   "codemirror_mode": {
    "name": "ipython",
    "version": 3
   },
   "file_extension": ".py",
   "mimetype": "text/x-python",
   "name": "python",
   "nbconvert_exporter": "python",
   "pygments_lexer": "ipython3",
   "version": "3.9.13"
  },
  "orig_nbformat": 4,
  "vscode": {
   "interpreter": {
    "hash": "347985429a9b7f6cf65bca758370600928313cf45b8f05cf08efea481e6f74dc"
   }
  }
 },
 "nbformat": 4,
 "nbformat_minor": 2
}
