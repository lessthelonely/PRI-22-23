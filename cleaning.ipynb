{
 "cells": [
  {
   "cell_type": "code",
   "execution_count": 1,
   "metadata": {},
   "outputs": [],
   "source": [
    "import pandas as pd"
   ]
  },
  {
   "cell_type": "code",
   "execution_count": 2,
   "metadata": {},
   "outputs": [],
   "source": [
    "og = pd.read_csv('data/GoodReads_100k_books.csv')\n",
    "clean_book = pd.read_csv('data/after_encoding/clean_book_data.csv')"
   ]
  },
  {
   "cell_type": "markdown",
   "metadata": {},
   "source": [
    "3 things to clean -> euro symbol in price, bookformat probably needs cleaning and genre (repeats)"
   ]
  },
  {
   "cell_type": "code",
   "execution_count": 23,
   "metadata": {},
   "outputs": [],
   "source": [
    "def removeDuplicates(genre):\n",
    "    genre_list = genre.split(',')\n",
    "    genre_list = list(dict.fromkeys(genre_list))\n",
    "    return ','.join(genre_list)"
   ]
  },
  {
   "cell_type": "code",
   "execution_count": 24,
   "metadata": {},
   "outputs": [
    {
     "data": {
      "text/plain": [
       "0        History,Military History,Civil War,American Hi...\n",
       "1                Couture,Fashion,Historical,Art,Nonfiction\n",
       "2                                         Politics,History\n",
       "3                                            Labor,History\n",
       "4        Business,Leadership,Romance,Historical Romance...\n",
       "                               ...                        \n",
       "72244    Nonfiction,Environment,Nature,Travel,Science,A...\n",
       "72245    Animals,Childrens,Middle Grade,Horses,Fiction,...\n",
       "72246    Christianity,Evangelism,Christian,Religion,The...\n",
       "72247    Nonfiction,History,Biography,Military History,...\n",
       "72248                        Fantasy,Paranormal,Nonfiction\n",
       "Name: genre, Length: 72249, dtype: object"
      ]
     },
     "execution_count": 24,
     "metadata": {},
     "output_type": "execute_result"
    }
   ],
   "source": [
    "clean_book['genre'] = clean_book['genre'].apply(removeDuplicates)\n",
    "clean_book['genre']\n"
   ]
  },
  {
   "cell_type": "code",
   "execution_count": 41,
   "metadata": {},
   "outputs": [
    {
     "data": {
      "text/plain": [
       "0        21,50 €\n",
       "1        38,50 €\n",
       "2            nan\n",
       "3            nan\n",
       "4            nan\n",
       "          ...   \n",
       "72244        nan\n",
       "72245        nan\n",
       "72246        nan\n",
       "72247        nan\n",
       "72248    22,04 €\n",
       "Name: price, Length: 72249, dtype: object"
      ]
     },
     "execution_count": 41,
     "metadata": {},
     "output_type": "execute_result"
    }
   ],
   "source": [
    "for i in clean_book.index:\n",
    "    clean_book.loc[i,'price']=str(clean_book.loc[i,'price']).replace('�','€')\n",
    "\n",
    "clean_book['price']"
   ]
  }
 ],
 "metadata": {
  "kernelspec": {
   "display_name": "Python 3.9.13 64-bit (microsoft store)",
   "language": "python",
   "name": "python3"
  },
  "language_info": {
   "codemirror_mode": {
    "name": "ipython",
    "version": 3
   },
   "file_extension": ".py",
   "mimetype": "text/x-python",
   "name": "python",
   "nbconvert_exporter": "python",
   "pygments_lexer": "ipython3",
   "version": "3.9.13"
  },
  "orig_nbformat": 4,
  "vscode": {
   "interpreter": {
    "hash": "347985429a9b7f6cf65bca758370600928313cf45b8f05cf08efea481e6f74dc"
   }
  }
 },
 "nbformat": 4,
 "nbformat_minor": 2
}
