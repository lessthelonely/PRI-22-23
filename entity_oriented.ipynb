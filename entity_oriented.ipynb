{
 "cells": [
  {
   "cell_type": "code",
   "execution_count": 24,
   "metadata": {},
   "outputs": [
    {
     "name": "stdout",
     "output_type": "stream",
     "text": [
      "\n",
      "\n",
      "Philip Mansel (born 1951) is a historian of courts and cities, and the author of a number of books about the history of France and the Ottoman Empire. He was born in London in 1951 and educated at Eton College, Balliol College, Oxford, and obtained a doctorate at University College London in 1978. He has lived in Paris, Istanbul and Beirut and now lives in London.\n"
     ]
    }
   ],
   "source": [
    "import requests\n",
    "from bs4 import BeautifulSoup\n",
    "\n",
    "author_name=\"Philip Mansel\"\n",
    "author = author_name.split(' ')\n",
    "writer = author[0]+'_'+author[1]\n",
    "query= \"https://dbpedia.org/page/\" + writer\n",
    "abstract = \"\"\n",
    "birth = \"\"\n",
    "genre = \"\"\n",
    "response = requests.get(query)\n",
    "soup=BeautifulSoup(response.content, 'html.parser')\n",
    "\n",
    "image = soup.find('a', {'rel': 'dbo:thumbnail'})\n",
    "if image is not None:\n",
    "    print(image['resource'])\n",
    "birthPlace = soup.find_all('span', {'property': 'dbp:birthPlace', 'lang':'en'})\n",
    "if birthPlace is not None:\n",
    "    for tag in birthPlace:\n",
    "        birth += tag.text.strip()\n",
    "print(birth)\n",
    "genres = soup.find_all('span', {'property': 'dbp:genre', 'lang':'en'})\n",
    "if genres is not None:\n",
    "    for tag in genres:\n",
    "        genre += tag.text.strip()\n",
    "print(genre)\n",
    "language= soup.find_all('span', {'property': 'dbo:abstract', 'lang':'en'})\n",
    "if language is not None:\n",
    "    for tag in language:\n",
    "        abstract += tag.text.strip()\n",
    "print(abstract)\n"
   ]
  }
 ],
 "metadata": {
  "kernelspec": {
   "display_name": "Python 3.9.13 64-bit (microsoft store)",
   "language": "python",
   "name": "python3"
  },
  "language_info": {
   "codemirror_mode": {
    "name": "ipython",
    "version": 3
   },
   "file_extension": ".py",
   "mimetype": "text/x-python",
   "name": "python",
   "nbconvert_exporter": "python",
   "pygments_lexer": "ipython3",
   "version": "3.9.13"
  },
  "orig_nbformat": 4,
  "vscode": {
   "interpreter": {
    "hash": "bfdafa545f090f477f4073918875fa08440a91c7c53d3eb126dec86f72269011"
   }
  }
 },
 "nbformat": 4,
 "nbformat_minor": 2
}
