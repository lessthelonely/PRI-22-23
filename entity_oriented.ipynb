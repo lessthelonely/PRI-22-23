{
 "cells": [
  {
   "cell_type": "code",
   "execution_count": 1,
   "metadata": {},
   "outputs": [
    {
     "data": {
      "text/plain": [
       "'Neil Richard MacKinnon Gaiman (; born Neil Richard Gaiman, 10 November 1960) is an English author of short fiction, novels, comic books, graphic novels, nonfiction, audio theatre, and films. His works include the comic book series The Sandman and novels Stardust, American Gods, Coraline, and The Graveyard Book. He has won numerous awards, including the Hugo, Nebula, and Bram Stoker awards, as well as the Newbery and Carnegie medals. He is the first author to win both the Newbery and the Carnegie medals for the same work, The Graveyard Book (2008). In 2013, The Ocean at the End of the Lane was voted Book of the Year in the British National Book Awards.'"
      ]
     },
     "execution_count": 1,
     "metadata": {},
     "output_type": "execute_result"
    }
   ],
   "source": [
    "query=\"https://lookup.dbpedia.org/api/search?query=neil%20gaiman\"\n",
    "\n",
    "import requests\n",
    "import xmltodict\n",
    "import json\n",
    "\n",
    "response = requests.get(query, stream=True)\n",
    "\n",
    "decoded_response = response.content.decode('utf-8')\n",
    "response_json = json.loads(json.dumps(xmltodict.parse(decoded_response)))\n",
    "response_json['ArrayOfResults']['Result'][0]['Description']"
   ]
  }
 ],
 "metadata": {
  "kernelspec": {
   "display_name": "Python 3.9.13 64-bit (microsoft store)",
   "language": "python",
   "name": "python3"
  },
  "language_info": {
   "codemirror_mode": {
    "name": "ipython",
    "version": 3
   },
   "file_extension": ".py",
   "mimetype": "text/x-python",
   "name": "python",
   "nbconvert_exporter": "python",
   "pygments_lexer": "ipython3",
   "version": "3.9.13"
  },
  "orig_nbformat": 4,
  "vscode": {
   "interpreter": {
    "hash": "bfdafa545f090f477f4073918875fa08440a91c7c53d3eb126dec86f72269011"
   }
  }
 },
 "nbformat": 4,
 "nbformat_minor": 2
}
