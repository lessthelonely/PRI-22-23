{
 "cells": [
  {
   "cell_type": "code",
   "execution_count": 20,
   "metadata": {},
   "outputs": [
    {
     "name": "stdout",
     "output_type": "stream",
     "text": [
      "http://commons.wikimedia.org/wiki/Special:FilePath/9.17.16ScottSnyderByLuigiNovi2.jpg?width=300\n",
      "New York City, New York, United States\n",
      "Fantasy, horror, superhero\n",
      "Scott Snyder is an American writer. He is known for his 2006 short story collection Voodoo Heart, and his comic book writing, including American Vampire, Detective Comics, Batman, Wytches, Swamp Thing, and Justice League.\n"
     ]
    }
   ],
   "source": [
    "import requests\n",
    "from bs4 import BeautifulSoup\n",
    "\n",
    "author_name=\"Scott Snyder\"\n",
    "author = author_name.split(' ')\n",
    "writer = author[0]+'_'+author[1]\n",
    "query= \"https://dbpedia.org/page/\" + writer\n",
    "abstract = \"\"\n",
    "birth = \"\"\n",
    "genre = \"\"\n",
    "response = requests.get(query)\n",
    "soup=BeautifulSoup(response.content, 'html.parser')\n",
    "image = soup.find('a', {'rel': 'dbo:thumbnail'})\n",
    "print(image['resource'])\n",
    "birthPlace = soup.find_all('span', {'property': 'dbp:birthPlace', 'lang':'en'})\n",
    "for tag in birthPlace:\n",
    "    birth += tag.text.strip()\n",
    "print(birth)\n",
    "genres = soup.find_all('span', {'property': 'dbp:genre', 'lang':'en'})\n",
    "for tag in genres:\n",
    "    genre += tag.text.strip()\n",
    "print(genre)\n",
    "language= soup.find_all('span', {'property': 'dbo:abstract', 'lang':'en'})\n",
    "for tag in language:\n",
    "    abstract += tag.text.strip()\n",
    "print(abstract)\n"
   ]
  }
 ],
 "metadata": {
  "kernelspec": {
   "display_name": "Python 3.9.13 64-bit (microsoft store)",
   "language": "python",
   "name": "python3"
  },
  "language_info": {
   "codemirror_mode": {
    "name": "ipython",
    "version": 3
   },
   "file_extension": ".py",
   "mimetype": "text/x-python",
   "name": "python",
   "nbconvert_exporter": "python",
   "pygments_lexer": "ipython3",
   "version": "3.9.13"
  },
  "orig_nbformat": 4,
  "vscode": {
   "interpreter": {
    "hash": "bfdafa545f090f477f4073918875fa08440a91c7c53d3eb126dec86f72269011"
   }
  }
 },
 "nbformat": 4,
 "nbformat_minor": 2
}
