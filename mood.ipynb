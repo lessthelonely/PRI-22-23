{
 "cells": [
  {
   "cell_type": "code",
   "execution_count": 1,
   "metadata": {},
   "outputs": [],
   "source": [
    "import pandas as pd"
   ]
  },
  {
   "cell_type": "code",
   "execution_count": 3,
   "metadata": {},
   "outputs": [],
   "source": [
    "merge_2 = pd.read_json('solr/merge_2.json')\n",
    "everything_part_1 = pd.read_json('solr/everything_part_1.json')\n",
    "everything_part_2 = pd.read_json('solr/everything_part_2.json')\n",
    "everything_part_3 = pd.read_json('solr/everything_part_3.json')\n",
    "everything_part_4 = pd.read_json('solr/everything_part_4.json')\n",
    "everything_part_5 = pd.read_json('solr/everything_part_5.json')\n",
    "everything_part_6 = pd.read_json('solr/everything_part_6.json')\n",
    "everything_part_7 = pd.read_json('solr/everything_part_7.json')\n",
    "everything_part_8 = pd.read_json('solr/everything_part_8.json')\n",
    "everything_part_9 = pd.read_json('solr/everything_part_9.json')\n",
    "everything_part_10 = pd.read_json('solr/everything_part_10.json')\n",
    "everything_part_11 = pd.read_json('solr/everything_part_11.json')\n",
    "everything_part_12 = pd.read_json('solr/everything_part_12.json')\n",
    "everything_part_13 = pd.read_json('solr/everything_part_13.json')\n",
    "everything_part_14 = pd.read_json('solr/everything_part_14.json')\n",
    "everything_part_15 = pd.read_json('solr/everything_part_15.json')\n",
    "everything_part_16 = pd.read_json('solr/everything_part_16.json')\n",
    "everything_part_17 = pd.read_json('solr/everything_part_17.json')\n",
    "everything_part_18 = pd.read_json('solr/everything_part_18.json')"
   ]
  },
  {
   "cell_type": "code",
   "execution_count": null,
   "metadata": {},
   "outputs": [],
   "source": [
    "def map_mood(id):\n",
    "    return merge_2.loc[merge_2['id'] == id]['mood'].values[0]\n"
   ]
  },
  {
   "cell_type": "code",
   "execution_count": null,
   "metadata": {},
   "outputs": [],
   "source": [
    "moods_part_1 = list(map(map_mood, everything_part_1['id']))\n",
    "moods_part_2 = list(map(map_mood, everything_part_2['id']))\n",
    "moods_part_3 = list(map(map_mood, everything_part_3['id']))\n",
    "moods_part_4 = list(map(map_mood, everything_part_4['id']))\n",
    "moods_part_5 = list(map(map_mood, everything_part_5['id']))\n",
    "moods_part_6 = list(map(map_mood, everything_part_6['id']))\n",
    "moods_part_7 = list(map(map_mood, everything_part_7['id']))\n",
    "moods_part_8 = list(map(map_mood, everything_part_8['id']))\n",
    "moods_part_9 = list(map(map_mood, everything_part_9['id']))\n",
    "moods_part_10 = list(map(map_mood, everything_part_10['id']))\n",
    "moods_part_11 = list(map(map_mood, everything_part_11['id']))\n",
    "moods_part_12 = list(map(map_mood, everything_part_12['id']))\n",
    "moods_part_13 = list(map(map_mood, everything_part_13['id']))\n",
    "moods_part_14 = list(map(map_mood, everything_part_14['id']))\n",
    "moods_part_15 = list(map(map_mood, everything_part_15['id']))\n",
    "moods_part_16 = list(map(map_mood, everything_part_16['id']))\n",
    "moods_part_17 = list(map(map_mood, everything_part_17['id']))\n",
    "moods_part_18 = list(map(map_mood, everything_part_18['id']))\n",
    "\n",
    "everything_part_1['mood'] = moods_part_1\n",
    "everything_part_2['mood'] = moods_part_2\n",
    "everything_part_3['mood'] = moods_part_3\n",
    "everything_part_4['mood'] = moods_part_4\n",
    "everything_part_5['mood'] = moods_part_5\n",
    "everything_part_6['mood'] = moods_part_6\n",
    "everything_part_7['mood'] = moods_part_7\n",
    "everything_part_8['mood'] = moods_part_8\n",
    "everything_part_9['mood'] = moods_part_9\n",
    "everything_part_10['mood'] = moods_part_10\n",
    "everything_part_11['mood'] = moods_part_11\n",
    "everything_part_12['mood'] = moods_part_12\n",
    "everything_part_13['mood'] = moods_part_13\n",
    "everything_part_14['mood'] = moods_part_14\n",
    "everything_part_15['mood'] = moods_part_15\n",
    "everything_part_16['mood'] = moods_part_16\n",
    "everything_part_17['mood'] = moods_part_17\n",
    "everything_part_18['mood'] = moods_part_18\n",
    "\n",
    "everything_part_1.to_json('solr/everything_part_1_mood.json')\n",
    "everything_part_2.to_json('solr/everything_part_2_mood.json')\n",
    "everything_part_3.to_json('solr/everything_part_3_mood.json')\n",
    "everything_part_4.to_json('solr/everything_part_4_mood.json')\n",
    "everything_part_5.to_json('solr/everything_part_5_mood.json')\n",
    "everything_part_6.to_json('solr/everything_part_6_mood.json')\n",
    "everything_part_7.to_json('solr/everything_part_7_mood.json')\n",
    "everything_part_8.to_json('solr/everything_part_8_mood.json')\n",
    "everything_part_9.to_json('solr/everything_part_9_mood.json')\n",
    "everything_part_10.to_json('solr/everything_part_10_mood.json')\n",
    "everything_part_11.to_json('solr/everything_part_11_mood.json')\n",
    "everything_part_12.to_json('solr/everything_part_12_mood.json')\n",
    "everything_part_13.to_json('solr/everything_part_13_mood.json')\n",
    "everything_part_14.to_json('solr/everything_part_14_mood.json')\n",
    "everything_part_15.to_json('solr/everything_part_15_mood.json')\n",
    "everything_part_16.to_json('solr/everything_part_16_mood.json')\n",
    "everything_part_17.to_json('solr/everything_part_17_mood.json')\n",
    "everything_part_18.to_json('solr/everything_part_18_mood.json')"
   ]
  }
 ],
 "metadata": {
  "kernelspec": {
   "display_name": "Python 3.9.13 64-bit (microsoft store)",
   "language": "python",
   "name": "python3"
  },
  "language_info": {
   "codemirror_mode": {
    "name": "ipython",
    "version": 3
   },
   "file_extension": ".py",
   "mimetype": "text/x-python",
   "name": "python",
   "nbconvert_exporter": "python",
   "pygments_lexer": "ipython3",
   "version": "3.9.13"
  },
  "orig_nbformat": 4,
  "vscode": {
   "interpreter": {
    "hash": "bfdafa545f090f477f4073918875fa08440a91c7c53d3eb126dec86f72269011"
   }
  }
 },
 "nbformat": 4,
 "nbformat_minor": 2
}
