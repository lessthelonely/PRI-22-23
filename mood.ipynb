{
 "cells": [
  {
   "cell_type": "code",
   "execution_count": 1,
   "metadata": {},
   "outputs": [],
   "source": [
    "import pandas as pd"
   ]
  },
  {
   "cell_type": "code",
   "execution_count": 11,
   "metadata": {},
   "outputs": [],
   "source": [
    "merge_2 = pd.read_json('solr/merge_2_after_script.json')\n",
    "everything_part_1 = pd.read_json('solr/everything_part_1.json')\n",
    "everything_part_2 = pd.read_json('solr/everything_part_2.json')\n",
    "everything_part_3 = pd.read_json('solr/everything_part_3.json')\n",
    "everything_part_4 = pd.read_json('solr/everything_part_4.json')\n",
    "everything_part_5 = pd.read_json('solr/everything_part_5.json')\n",
    "everything_part_6 = pd.read_json('solr/everything_part_6.json')\n",
    "everything_part_7 = pd.read_json('solr/everything_part_7.json')\n",
    "everything_part_8 = pd.read_json('solr/everything_part_8.json')\n",
    "everything_part_9 = pd.read_json('solr/everything_part_9.json')\n",
    "everything_part_10 = pd.read_json('solr/everything_part_10.json')\n",
    "everything_part_11 = pd.read_json('solr/everything_part_11.json')\n",
    "everything_part_12 = pd.read_json('solr/everything_part_12.json')\n",
    "everything_part_13 = pd.read_json('solr/everything_part_13.json')\n",
    "#everything_part_14 = pd.read_json('solr/everything_part_14.json')\n",
    "everything_part_15 = pd.read_json('solr/everything_part_15.json')\n",
    "#everything_part_16 = pd.read_json('solr/everything_part_16.json')\n",
    "everything_part_17 = pd.read_json('solr/everything_part_17.json')\n",
    "everything_part_18 = pd.read_json('solr/everything_part_18.json')"
   ]
  },
  {
   "cell_type": "code",
   "execution_count": 15,
   "metadata": {},
   "outputs": [
    {
     "ename": "ValueError",
     "evalue": "Unexpected character found when decoding array value (1)",
     "output_type": "error",
     "traceback": [
      "\u001b[1;31m---------------------------------------------------------------------------\u001b[0m",
      "\u001b[1;31mValueError\u001b[0m                                Traceback (most recent call last)",
      "Cell \u001b[1;32mIn [15], line 1\u001b[0m\n\u001b[1;32m----> 1\u001b[0m everything_part_14 \u001b[39m=\u001b[39m pd\u001b[39m.\u001b[39;49mread_json(\u001b[39m'\u001b[39;49m\u001b[39meverything_part_16.json\u001b[39;49m\u001b[39m'\u001b[39;49m)\n",
      "File \u001b[1;32m~\\AppData\\Local\\Packages\\PythonSoftwareFoundation.Python.3.9_qbz5n2kfra8p0\\LocalCache\\local-packages\\Python39\\site-packages\\pandas\\util\\_decorators.py:211\u001b[0m, in \u001b[0;36mdeprecate_kwarg.<locals>._deprecate_kwarg.<locals>.wrapper\u001b[1;34m(*args, **kwargs)\u001b[0m\n\u001b[0;32m    209\u001b[0m     \u001b[39melse\u001b[39;00m:\n\u001b[0;32m    210\u001b[0m         kwargs[new_arg_name] \u001b[39m=\u001b[39m new_arg_value\n\u001b[1;32m--> 211\u001b[0m \u001b[39mreturn\u001b[39;00m func(\u001b[39m*\u001b[39margs, \u001b[39m*\u001b[39m\u001b[39m*\u001b[39mkwargs)\n",
      "File \u001b[1;32m~\\AppData\\Local\\Packages\\PythonSoftwareFoundation.Python.3.9_qbz5n2kfra8p0\\LocalCache\\local-packages\\Python39\\site-packages\\pandas\\util\\_decorators.py:331\u001b[0m, in \u001b[0;36mdeprecate_nonkeyword_arguments.<locals>.decorate.<locals>.wrapper\u001b[1;34m(*args, **kwargs)\u001b[0m\n\u001b[0;32m    325\u001b[0m \u001b[39mif\u001b[39;00m \u001b[39mlen\u001b[39m(args) \u001b[39m>\u001b[39m num_allow_args:\n\u001b[0;32m    326\u001b[0m     warnings\u001b[39m.\u001b[39mwarn(\n\u001b[0;32m    327\u001b[0m         msg\u001b[39m.\u001b[39mformat(arguments\u001b[39m=\u001b[39m_format_argument_list(allow_args)),\n\u001b[0;32m    328\u001b[0m         \u001b[39mFutureWarning\u001b[39;00m,\n\u001b[0;32m    329\u001b[0m         stacklevel\u001b[39m=\u001b[39mfind_stack_level(),\n\u001b[0;32m    330\u001b[0m     )\n\u001b[1;32m--> 331\u001b[0m \u001b[39mreturn\u001b[39;00m func(\u001b[39m*\u001b[39margs, \u001b[39m*\u001b[39m\u001b[39m*\u001b[39mkwargs)\n",
      "File \u001b[1;32m~\\AppData\\Local\\Packages\\PythonSoftwareFoundation.Python.3.9_qbz5n2kfra8p0\\LocalCache\\local-packages\\Python39\\site-packages\\pandas\\io\\json\\_json.py:757\u001b[0m, in \u001b[0;36mread_json\u001b[1;34m(path_or_buf, orient, typ, dtype, convert_axes, convert_dates, keep_default_dates, numpy, precise_float, date_unit, encoding, encoding_errors, lines, chunksize, compression, nrows, storage_options)\u001b[0m\n\u001b[0;32m    754\u001b[0m     \u001b[39mreturn\u001b[39;00m json_reader\n\u001b[0;32m    756\u001b[0m \u001b[39mwith\u001b[39;00m json_reader:\n\u001b[1;32m--> 757\u001b[0m     \u001b[39mreturn\u001b[39;00m json_reader\u001b[39m.\u001b[39;49mread()\n",
      "File \u001b[1;32m~\\AppData\\Local\\Packages\\PythonSoftwareFoundation.Python.3.9_qbz5n2kfra8p0\\LocalCache\\local-packages\\Python39\\site-packages\\pandas\\io\\json\\_json.py:915\u001b[0m, in \u001b[0;36mJsonReader.read\u001b[1;34m(self)\u001b[0m\n\u001b[0;32m    913\u001b[0m         obj \u001b[39m=\u001b[39m \u001b[39mself\u001b[39m\u001b[39m.\u001b[39m_get_object_parser(\u001b[39mself\u001b[39m\u001b[39m.\u001b[39m_combine_lines(data_lines))\n\u001b[0;32m    914\u001b[0m \u001b[39melse\u001b[39;00m:\n\u001b[1;32m--> 915\u001b[0m     obj \u001b[39m=\u001b[39m \u001b[39mself\u001b[39;49m\u001b[39m.\u001b[39;49m_get_object_parser(\u001b[39mself\u001b[39;49m\u001b[39m.\u001b[39;49mdata)\n\u001b[0;32m    916\u001b[0m \u001b[39mself\u001b[39m\u001b[39m.\u001b[39mclose()\n\u001b[0;32m    917\u001b[0m \u001b[39mreturn\u001b[39;00m obj\n",
      "File \u001b[1;32m~\\AppData\\Local\\Packages\\PythonSoftwareFoundation.Python.3.9_qbz5n2kfra8p0\\LocalCache\\local-packages\\Python39\\site-packages\\pandas\\io\\json\\_json.py:937\u001b[0m, in \u001b[0;36mJsonReader._get_object_parser\u001b[1;34m(self, json)\u001b[0m\n\u001b[0;32m    935\u001b[0m obj \u001b[39m=\u001b[39m \u001b[39mNone\u001b[39;00m\n\u001b[0;32m    936\u001b[0m \u001b[39mif\u001b[39;00m typ \u001b[39m==\u001b[39m \u001b[39m\"\u001b[39m\u001b[39mframe\u001b[39m\u001b[39m\"\u001b[39m:\n\u001b[1;32m--> 937\u001b[0m     obj \u001b[39m=\u001b[39m FrameParser(json, \u001b[39m*\u001b[39;49m\u001b[39m*\u001b[39;49mkwargs)\u001b[39m.\u001b[39;49mparse()\n\u001b[0;32m    939\u001b[0m \u001b[39mif\u001b[39;00m typ \u001b[39m==\u001b[39m \u001b[39m\"\u001b[39m\u001b[39mseries\u001b[39m\u001b[39m\"\u001b[39m \u001b[39mor\u001b[39;00m obj \u001b[39mis\u001b[39;00m \u001b[39mNone\u001b[39;00m:\n\u001b[0;32m    940\u001b[0m     \u001b[39mif\u001b[39;00m \u001b[39mnot\u001b[39;00m \u001b[39misinstance\u001b[39m(dtype, \u001b[39mbool\u001b[39m):\n",
      "File \u001b[1;32m~\\AppData\\Local\\Packages\\PythonSoftwareFoundation.Python.3.9_qbz5n2kfra8p0\\LocalCache\\local-packages\\Python39\\site-packages\\pandas\\io\\json\\_json.py:1064\u001b[0m, in \u001b[0;36mParser.parse\u001b[1;34m(self)\u001b[0m\n\u001b[0;32m   1062\u001b[0m     \u001b[39mself\u001b[39m\u001b[39m.\u001b[39m_parse_numpy()\n\u001b[0;32m   1063\u001b[0m \u001b[39melse\u001b[39;00m:\n\u001b[1;32m-> 1064\u001b[0m     \u001b[39mself\u001b[39;49m\u001b[39m.\u001b[39;49m_parse_no_numpy()\n\u001b[0;32m   1066\u001b[0m \u001b[39mif\u001b[39;00m \u001b[39mself\u001b[39m\u001b[39m.\u001b[39mobj \u001b[39mis\u001b[39;00m \u001b[39mNone\u001b[39;00m:\n\u001b[0;32m   1067\u001b[0m     \u001b[39mreturn\u001b[39;00m \u001b[39mNone\u001b[39;00m\n",
      "File \u001b[1;32m~\\AppData\\Local\\Packages\\PythonSoftwareFoundation.Python.3.9_qbz5n2kfra8p0\\LocalCache\\local-packages\\Python39\\site-packages\\pandas\\io\\json\\_json.py:1321\u001b[0m, in \u001b[0;36mFrameParser._parse_no_numpy\u001b[1;34m(self)\u001b[0m\n\u001b[0;32m   1317\u001b[0m orient \u001b[39m=\u001b[39m \u001b[39mself\u001b[39m\u001b[39m.\u001b[39morient\n\u001b[0;32m   1319\u001b[0m \u001b[39mif\u001b[39;00m orient \u001b[39m==\u001b[39m \u001b[39m\"\u001b[39m\u001b[39mcolumns\u001b[39m\u001b[39m\"\u001b[39m:\n\u001b[0;32m   1320\u001b[0m     \u001b[39mself\u001b[39m\u001b[39m.\u001b[39mobj \u001b[39m=\u001b[39m DataFrame(\n\u001b[1;32m-> 1321\u001b[0m         loads(json, precise_float\u001b[39m=\u001b[39;49m\u001b[39mself\u001b[39;49m\u001b[39m.\u001b[39;49mprecise_float), dtype\u001b[39m=\u001b[39m\u001b[39mNone\u001b[39;00m\n\u001b[0;32m   1322\u001b[0m     )\n\u001b[0;32m   1323\u001b[0m \u001b[39melif\u001b[39;00m orient \u001b[39m==\u001b[39m \u001b[39m\"\u001b[39m\u001b[39msplit\u001b[39m\u001b[39m\"\u001b[39m:\n\u001b[0;32m   1324\u001b[0m     decoded \u001b[39m=\u001b[39m {\n\u001b[0;32m   1325\u001b[0m         \u001b[39mstr\u001b[39m(k): v\n\u001b[0;32m   1326\u001b[0m         \u001b[39mfor\u001b[39;00m k, v \u001b[39min\u001b[39;00m loads(json, precise_float\u001b[39m=\u001b[39m\u001b[39mself\u001b[39m\u001b[39m.\u001b[39mprecise_float)\u001b[39m.\u001b[39mitems()\n\u001b[0;32m   1327\u001b[0m     }\n",
      "\u001b[1;31mValueError\u001b[0m: Unexpected character found when decoding array value (1)"
     ]
    }
   ],
   "source": [
    "everything_part_14 = pd.read_json('everything_part_16.json')"
   ]
  },
  {
   "cell_type": "code",
   "execution_count": null,
   "metadata": {},
   "outputs": [],
   "source": [
    "def map_mood(id):\n",
    "    return merge_2.loc[merge_2['id'] == id]['mood'].values[0]\n"
   ]
  },
  {
   "cell_type": "code",
   "execution_count": null,
   "metadata": {},
   "outputs": [],
   "source": [
    "moods_part_1 = list(map(map_mood, everything_part_1['id']))\n",
    "moods_part_2 = list(map(map_mood, everything_part_2['id']))\n",
    "moods_part_3 = list(map(map_mood, everything_part_3['id']))\n",
    "moods_part_4 = list(map(map_mood, everything_part_4['id']))\n",
    "moods_part_5 = list(map(map_mood, everything_part_5['id']))\n",
    "moods_part_6 = list(map(map_mood, everything_part_6['id']))\n",
    "moods_part_7 = list(map(map_mood, everything_part_7['id']))\n",
    "moods_part_8 = list(map(map_mood, everything_part_8['id']))\n",
    "moods_part_9 = list(map(map_mood, everything_part_9['id']))\n",
    "moods_part_10 = list(map(map_mood, everything_part_10['id']))\n",
    "moods_part_11 = list(map(map_mood, everything_part_11['id']))\n",
    "moods_part_12 = list(map(map_mood, everything_part_12['id']))\n",
    "moods_part_13 = list(map(map_mood, everything_part_13['id']))\n",
    "moods_part_14 = list(map(map_mood, everything_part_14['id']))\n",
    "moods_part_15 = list(map(map_mood, everything_part_15['id']))\n",
    "moods_part_16 = list(map(map_mood, everything_part_16['id']))\n",
    "moods_part_17 = list(map(map_mood, everything_part_17['id']))\n",
    "moods_part_18 = list(map(map_mood, everything_part_18['id']))\n",
    "\n",
    "everything_part_1['mood'] = moods_part_1\n",
    "everything_part_2['mood'] = moods_part_2\n",
    "everything_part_3['mood'] = moods_part_3\n",
    "everything_part_4['mood'] = moods_part_4\n",
    "everything_part_5['mood'] = moods_part_5\n",
    "everything_part_6['mood'] = moods_part_6\n",
    "everything_part_7['mood'] = moods_part_7\n",
    "everything_part_8['mood'] = moods_part_8\n",
    "everything_part_9['mood'] = moods_part_9\n",
    "everything_part_10['mood'] = moods_part_10\n",
    "everything_part_11['mood'] = moods_part_11\n",
    "everything_part_12['mood'] = moods_part_12\n",
    "everything_part_13['mood'] = moods_part_13\n",
    "everything_part_14['mood'] = moods_part_14\n",
    "everything_part_15['mood'] = moods_part_15\n",
    "everything_part_16['mood'] = moods_part_16\n",
    "everything_part_17['mood'] = moods_part_17\n",
    "everything_part_18['mood'] = moods_part_18\n",
    "\n",
    "everything_part_1.to_json('solr/everything_part_1_mood.json')\n",
    "everything_part_2.to_json('solr/everything_part_2_mood.json')\n",
    "everything_part_3.to_json('solr/everything_part_3_mood.json')\n",
    "everything_part_4.to_json('solr/everything_part_4_mood.json')\n",
    "everything_part_5.to_json('solr/everything_part_5_mood.json')\n",
    "everything_part_6.to_json('solr/everything_part_6_mood.json')\n",
    "everything_part_7.to_json('solr/everything_part_7_mood.json')\n",
    "everything_part_8.to_json('solr/everything_part_8_mood.json')\n",
    "everything_part_9.to_json('solr/everything_part_9_mood.json')\n",
    "everything_part_10.to_json('solr/everything_part_10_mood.json')\n",
    "everything_part_11.to_json('solr/everything_part_11_mood.json')\n",
    "everything_part_12.to_json('solr/everything_part_12_mood.json')\n",
    "everything_part_13.to_json('solr/everything_part_13_mood.json')\n",
    "everything_part_14.to_json('solr/everything_part_14_mood.json')\n",
    "everything_part_15.to_json('solr/everything_part_15_mood.json')\n",
    "everything_part_16.to_json('solr/everything_part_16_mood.json')\n",
    "everything_part_17.to_json('solr/everything_part_17_mood.json')\n",
    "everything_part_18.to_json('solr/everything_part_18_mood.json')"
   ]
  }
 ],
 "metadata": {
  "kernelspec": {
   "display_name": "Python 3.9.13 64-bit (microsoft store)",
   "language": "python",
   "name": "python3"
  },
  "language_info": {
   "codemirror_mode": {
    "name": "ipython",
    "version": 3
   },
   "file_extension": ".py",
   "mimetype": "text/x-python",
   "name": "python",
   "nbconvert_exporter": "python",
   "pygments_lexer": "ipython3",
   "version": "3.9.13"
  },
  "orig_nbformat": 4,
  "vscode": {
   "interpreter": {
    "hash": "bfdafa545f090f477f4073918875fa08440a91c7c53d3eb126dec86f72269011"
   }
  }
 },
 "nbformat": 4,
 "nbformat_minor": 2
}
