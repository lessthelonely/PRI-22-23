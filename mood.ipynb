{
 "cells": [
  {
   "cell_type": "code",
   "execution_count": 1,
   "metadata": {},
   "outputs": [],
   "source": [
    "import pandas as pd"
   ]
  },
  {
   "cell_type": "code",
   "execution_count": 27,
   "metadata": {},
   "outputs": [],
   "source": [
    "#merge_2 = pd.read_json('solr/merged_after_moods.json')\n",
    "merge_2 = pd.read_json('solr/moods_remastered.json')"
   ]
  },
  {
   "cell_type": "code",
   "execution_count": 21,
   "metadata": {},
   "outputs": [],
   "source": [
    "import json \n",
    "with open('solr/everything_part_1.json', encoding='utf8') as f:\n",
    "   everything_part_1 = json.load(f)\n",
    "\n",
    "with open('solr/everything_part_2.json', encoding='utf8') as f:\n",
    "   everything_part_2 = json.load(f)\n",
    "\n",
    "with open('solr/everything_part_3.json', encoding='utf8') as f:\n",
    "   everything_part_3 = json.load(f)\n",
    "\n",
    "with open('solr/everything_part_4.json', encoding='utf8') as f:\n",
    "   everything_part_4 = json.load(f)\n",
    "\n",
    "with open('solr/everything_part_5.json', encoding='utf8') as f:\n",
    "   everything_part_5 = json.load(f)\n",
    "\n",
    "with open('solr/everything_part_6.json', encoding='utf8') as f:\n",
    "   everything_part_6 = json.load(f)\n",
    "\n",
    "with open('solr/everything_part_7.json', encoding='utf8') as f:\n",
    "   everything_part_7 = json.load(f)\n",
    "\n",
    "with open('solr/everything_part_8.json', encoding='utf8') as f:\n",
    "   everything_part_8 = json.load(f)\n",
    "\n",
    "with open('solr/everything_part_9.json', encoding='utf8') as f:\n",
    "   everything_part_9 = json.load(f)\n",
    "\n",
    "with open('solr/everything_part_10.json', encoding='utf8') as f:\n",
    "   everything_part_10 = json.load(f)\n",
    "\n",
    "with open('solr/everything_part_11.json', encoding='utf8') as f:\n",
    "   everything_part_11 = json.load(f)\n",
    "\n",
    "with open('solr/everything_part_12.json', encoding='utf8') as f:\n",
    "   everything_part_12 = json.load(f)\n",
    "\n",
    "with open('solr/everything_part_13.json', encoding='utf8') as f:\n",
    "   everything_part_13 = json.load(f)\n",
    "\n",
    "with open('solr/everything_part_14.json', encoding='utf8') as f:\n",
    "   everything_part_14 = json.load(f)\n",
    "\n",
    "with open('solr/everything_part_15.json', encoding='utf8') as f:\n",
    "   everything_part_15 = json.load(f)\n",
    "\n",
    "with open('everything_part_16.json', encoding='utf8') as f:\n",
    "   everything_part_16 = json.load(f)\n",
    "\n",
    "with open('solr/everything_part_17.json', encoding='utf8') as f:\n",
    "   everything_part_17 = json.load(f)\n",
    "\n",
    "with open('solr/everything_part_18.json', encoding='utf8') as f:\n",
    "   everything_part_18 = json.load(f)"
   ]
  },
  {
   "cell_type": "code",
   "execution_count": 28,
   "metadata": {},
   "outputs": [
    {
     "data": {
      "text/plain": [
       "[\"['neutral': 0.6748560667037964\",\n",
       " \"'joy': 0.010698794227209873\",\n",
       " \"'disgust': 0.12062844124739058\",\n",
       " \"'sadness': 0.0725256958976388\",\n",
       " \"'anger': 0.016229002590989694\",\n",
       " \"'surprise': 0.06486904676421545\",\n",
       " \"'fear': 0.04019296322076116]\"]"
      ]
     },
     "execution_count": 28,
     "metadata": {},
     "output_type": "execute_result"
    }
   ],
   "source": [
    "merge_2.loc[merge_2['isbn'] == '002914180X']['mood'].values[0]"
   ]
  },
  {
   "cell_type": "code",
   "execution_count": null,
   "metadata": {},
   "outputs": [],
   "source": [
    "# i['mood_percentage']=[merge_2.loc[merge_2['id'] == i['id']]['mood'].values[0]]"
   ]
  },
  {
   "cell_type": "code",
   "execution_count": 20,
   "metadata": {},
   "outputs": [
    {
     "data": {
      "text/plain": [
       "{'id': 0,\n",
       " 'author': ['Laurence M. Hauptman'],\n",
       " 'book_format': 'Hardcover',\n",
       " 'description': 'Reveals that several hundred thousand Indians were affected by the Civil War and that twenty thousand Indians enlisted on both sides in an attempt to gain legitimacy, autonomy, or simply land.',\n",
       " 'genre': ['History',\n",
       "  'Military History',\n",
       "  'Civil War',\n",
       "  'American History',\n",
       "  'American Civil War',\n",
       "  'Nonfiction',\n",
       "  'Native Americans',\n",
       "  'North American History'],\n",
       " 'cover_img': 'https://i.gr-assets.com/images/S/compressed.photo.goodreads.com/books/1387738765l/1001053.jpg',\n",
       " 'isbn': '002914180X',\n",
       " 'link': 'https://goodreads.com/book/show/1001053.Between_Two_Fires',\n",
       " 'page_count': 304,\n",
       " 'rating': 3.52,\n",
       " 'review_count': 5,\n",
       " 'title': 'Between Two Fires: American Indians in the Civil War',\n",
       " 'rating_count': 33,\n",
       " 'price': 21.5,\n",
       " 'sensitivity': ['blood', 'war', 'slavery'],\n",
       " 'pacing': 'medium',\n",
       " 'buzzwords': ['interesting', 'detailed', 'new', 'important'],\n",
       " 'mood': ['neutral', 'disgust', 'sadness'],\n",
       " 'review': ['Well-written and well-researched, Hauptmann tells the forgotten story of the indian experience during the civil war. Hauptmann gives good treatment on the motivations of the Indians for siding with either the Union or the rebels. They ranged from patriotism to opportunism, or simply the desire to get involved in the biggest thing that was happening at the time.  Still, Hauptmann never really gives a satisfactory answer as to why the Indians got involved. He usually states that military involvement in the war was a way to maintain territory or, even more vaguely, that involvement was a “bargaining chip.” ',\n",
       "  'This is a must-read for history lovers. Native Americans fought for the Union and the Confederacy, and slavery was rarely the deciding factor on which side to choose. By the outbreak of the Civil War, native tribes were under the constant threat of removal and extermination. It was the drive to survive that cloaked the native experience in the war. This book examines tribal circumstances in the Trans-Mississippian West, The South and the North to tell the story of the native experience in the Civil War. From the Cherokee blood feud to the Robin Hood of Robinson County, these are the stories that need to be told.',\n",
       "  'An excellent overview of Indian experiences in the Civil War, focusing on several tribes and individuals. Covers military experiences as well as home life, and broader effects on tribes. Some background on their histories before and after the war. Short, but detailed. ',\n",
       "  'The book felt very disjointed. Hauptman would switch from one story to the next with little introduction.',\n",
       "  'Good mix of primary and secondary sources into a quick readable account of an important and often untold history.',\n",
       "  'Well-researched and thorough As the title clearly tells us,    Between Two Fires: American Indians in the Civil War    is (primarily) about the contributions of the American Indian to the American Civil War. It starts the reader with some of the early atrocities and misunderstandings that have characterized Indian and White interactions throughout American history. Some are the same things you will read about in any decent high school history text, and some are new for those that are not Indian history  buffs , such as myself. For example, I was not aware of the cruel and deliberate destruction of the Indian populations in California during the Gold Rush of 1849 until I read about it here.  The book discusses Indian participation on both sides of the war and their various motivations for joining in the fight. These motivations range from genuine patriotism to wanting to suck up to the government (be it Union or Confederate) for favors to wanting a steady, if small income to just wanting to get involved in the biggest thing that was going to happen to this generation of Americans.  Among the more interesting vignettes... Read more at:  http://dwdsreviews.blogspot.com/2010/...',\n",
       "  \"This book was interesting, since it covers a topic that isn't covered too often in CW literature. However, it didn't quite cover the topic enough IMO. I was expecting a more comprehensive history which included more tribes than the seven included in the book. It instead feels more like a random sample of the topic.\",\n",
       "  'Both sides attemted to recruit the support of native Americans during the Civil War. This is a story of those attempts and how they affected Native Americans.'],\n",
       " 'mood_percentage': [\"['neutral': 0.6748560667037964, 'joy': 0.010698794227209873, 'disgust': 0.12062844124739058, 'sadness': 0.0725256958976388, 'anger': 0.016229002590989694, 'surprise': 0.06486904676421545, 'fear': 0.04019296322076116]\"]}"
      ]
     },
     "execution_count": 20,
     "metadata": {},
     "output_type": "execute_result"
    }
   ],
   "source": [
    "everything_part_1[0]"
   ]
  },
  {
   "cell_type": "code",
   "execution_count": 30,
   "metadata": {},
   "outputs": [],
   "source": [
    "#return [merge_2.loc[merge_2['id'] == id]['mood'].values[0]]\n",
    "\n",
    "for i in everything_part_1:\n",
    "    i['mood_percentage']=[merge_2.loc[merge_2['isbn'] == i['isbn']]['mood'].values[0]]\n",
    "\n",
    "\n",
    "for i in everything_part_2:\n",
    "    i['mood_percentage']=[merge_2.loc[merge_2['isbn'] == i['isbn']]['mood'].values[0]]\n",
    "\n",
    "for i in everything_part_3:\n",
    "    i['mood_percentage']=[merge_2.loc[merge_2['isbn'] == i['isbn']]['mood'].values[0]]\n",
    "\n",
    "for i in everything_part_4:\n",
    "    i['mood_percentage']=[merge_2.loc[merge_2['isbn'] == i['isbn']]['mood'].values[0]]\n",
    "\n",
    "for i in everything_part_5:\n",
    "    i['mood_percentage']=[merge_2.loc[merge_2['isbn'] == i['isbn']]['mood'].values[0]]\n",
    "\n",
    "for i in everything_part_6:\n",
    "    i['mood_percentage']=[merge_2.loc[merge_2['isbn'] == i['isbn']]['mood'].values[0]]\n",
    "\n",
    "for i in everything_part_7:\n",
    "    i['mood_percentage']=[merge_2.loc[merge_2['isbn'] == i['isbn']]['mood'].values[0]]\n",
    "\n",
    "for i in everything_part_8:\n",
    "    i['mood_percentage']=[merge_2.loc[merge_2['isbn'] == i['isbn']]['mood'].values[0]]\n",
    "\n",
    "for i in everything_part_9:\n",
    "    i['mood_percentage']=[merge_2.loc[merge_2['isbn'] == i['isbn']]['mood'].values[0]]\n",
    "\n",
    "for i in everything_part_10:\n",
    "    i['mood_percentage']=[merge_2.loc[merge_2['isbn'] == i['isbn']]['mood'].values[0]]\n",
    "\n",
    "for i in everything_part_11:\n",
    "    i['mood_percentage']=[merge_2.loc[merge_2['isbn'] == i['isbn']]['mood'].values[0]]\n",
    "\n",
    "for i in everything_part_12:\n",
    "    i['mood_percentage']=[merge_2.loc[merge_2['isbn'] == i['isbn']]['mood'].values[0]]\n",
    "\n",
    "for i in everything_part_13:\n",
    "    i['mood_percentage']=[merge_2.loc[merge_2['isbn'] == i['isbn']]['mood'].values[0]]\n",
    "\n",
    "for i in everything_part_14:\n",
    "    i['mood_percentage']=[merge_2.loc[merge_2['isbn'] == i['isbn']]['mood'].values[0]]\n",
    "\n",
    "for i in everything_part_15:\n",
    "    i['mood_percentage']=[merge_2.loc[merge_2['isbn'] == i['isbn']]['mood'].values[0]]\n",
    "\n",
    "for i in everything_part_16:\n",
    "    i['mood_percentage']=[merge_2.loc[merge_2['isbn'] == i['isbn']]['mood'].values[0]]\n",
    "\n",
    "for i in everything_part_17:\n",
    "    i['mood_percentage']=[merge_2.loc[merge_2['isbn'] == i['isbn']]['mood'].values[0]]\n",
    "\n",
    "for i in everything_part_18:\n",
    "    i['mood_percentage']=[merge_2.loc[merge_2['isbn'] == i['isbn']]['mood'].values[0]]\n"
   ]
  },
  {
   "cell_type": "code",
   "execution_count": 5,
   "metadata": {},
   "outputs": [],
   "source": [
    "json_object = json.dumps(everything_part_1, indent=4,ensure_ascii=False)\n",
    "\n",
    "# Writing to sample.json\n",
    "with open(\"solr/everything_part_1_mood_remastered.json\", \"w\", encoding=\"utf8\") as outfile:\n",
    "    outfile.write(json_object)\n",
    "\n",
    "json_object = json.dumps(everything_part_2, indent=4,ensure_ascii=False)\n",
    "\n",
    "# Writing to sample.json\n",
    "with open(\"solr/everything_part_2_mood_remastered.json\", \"w\", encoding=\"utf8\") as outfile:\n",
    "    outfile.write(json_object)\n",
    "\n",
    "json_object = json.dumps(everything_part_3, indent=4,ensure_ascii=False)\n",
    "\n",
    "# Writing to sample.json\n",
    "with open(\"solr/everything_part_3_mood_remastered.json\", \"w\", encoding=\"utf8\") as outfile:\n",
    "    outfile.write(json_object)\n",
    "\n",
    "json_object = json.dumps(everything_part_4, indent=4,ensure_ascii=False)\n",
    "\n",
    "# Writing to sample.json\n",
    "with open(\"solr/everything_part_4_mood_remastered.json\", \"w\", encoding=\"utf8\") as outfile:\n",
    "    outfile.write(json_object)\n",
    "\n",
    "json_object = json.dumps(everything_part_5, indent=4,ensure_ascii=False)\n",
    "\n",
    "# Writing to sample.json\n",
    "with open(\"solr/everything_part_5_mood_remastered.json\", \"w\", encoding=\"utf8\") as outfile:\n",
    "    outfile.write(json_object)\n",
    "\n",
    "json_object = json.dumps(everything_part_6, indent=4,ensure_ascii=False)\n",
    "\n",
    "# Writing to sample.json\n",
    "with open(\"solr/everything_part_6_mood_remastered.json\", \"w\", encoding=\"utf8\") as outfile:\n",
    "    outfile.write(json_object)\n",
    "\n",
    "json_object = json.dumps(everything_part_7, indent=4,ensure_ascii=False)\n",
    "\n",
    "# Writing to sample.json\n",
    "with open(\"solr/everything_part_7_mood_remastered.json\", \"w\", encoding=\"utf8\") as outfile:\n",
    "    outfile.write(json_object)\n",
    "\n",
    "json_object = json.dumps(everything_part_8, indent=4,ensure_ascii=False)\n",
    "\n",
    "# Writing to sample.json\n",
    "with open(\"solr/everything_part_8_mood_remastered.json\", \"w\", encoding=\"utf8\") as outfile:\n",
    "    outfile.write(json_object)\n",
    "\n",
    "json_object = json.dumps(everything_part_9, indent=4,ensure_ascii=False)\n",
    "\n",
    "# Writing to sample.json\n",
    "with open(\"solr/everything_part_9_mood_remastered.json\", \"w\", encoding=\"utf8\") as outfile:\n",
    "    outfile.write(json_object)\n",
    "\n",
    "json_object = json.dumps(everything_part_10, indent=4,ensure_ascii=False)\n",
    "\n",
    "# Writing to sample.json\n",
    "with open(\"solr/everything_part_10_mood_remastered.json\", \"w\", encoding=\"utf8\") as outfile:\n",
    "    outfile.write(json_object)\n",
    "\n",
    "json_object = json.dumps(everything_part_11, indent=4,ensure_ascii=False)\n",
    "\n",
    "# Writing to sample.json\n",
    "with open(\"solr/everything_part_11_mood_remastered.json\", \"w\", encoding=\"utf8\") as outfile:\n",
    "    outfile.write(json_object)\n",
    "\n",
    "json_object = json.dumps(everything_part_12, indent=4,ensure_ascii=False)\n",
    "\n",
    "# Writing to sample.json\n",
    "with open(\"solr/everything_part_12_mood_remastered.json\", \"w\", encoding=\"utf8\") as outfile:\n",
    "    outfile.write(json_object)\n",
    "\n",
    "json_object = json.dumps(everything_part_13, indent=4,ensure_ascii=False)\n",
    "\n",
    "# Writing to sample.json\n",
    "with open(\"solr/everything_part_13_mood_remastered.json\", \"w\", encoding=\"utf8\") as outfile:\n",
    "    outfile.write(json_object)\n",
    "\n",
    "json_object = json.dumps(everything_part_14, indent=4,ensure_ascii=False)\n",
    "\n",
    "# Writing to sample.json\n",
    "with open(\"solr/everything_part_14_mood_remastered.json\", \"w\", encoding=\"utf8\") as outfile:\n",
    "    outfile.write(json_object)\n",
    "\n",
    "json_object = json.dumps(everything_part_15, indent=4,ensure_ascii=False)\n",
    "\n",
    "# Writing to sample.json\n",
    "with open(\"solr/everything_part_15_mood_remastered.json\", \"w\", encoding=\"utf8\") as outfile:\n",
    "    outfile.write(json_object)\n",
    "\n",
    "json_object = json.dumps(everything_part_16, indent=4,ensure_ascii=False)\n",
    "\n",
    "# Writing to sample.json\n",
    "with open(\"solr/everything_part_16_mood_remastered.json\", \"w\", encoding=\"utf8\") as outfile:\n",
    "    outfile.write(json_object)\n",
    "\n",
    "json_object = json.dumps(everything_part_17, indent=4,ensure_ascii=False)\n",
    "\n",
    "# Writing to sample.json\n",
    "with open(\"solr/everything_part_17_mood_remastered.json\", \"w\", encoding=\"utf8\") as outfile:\n",
    "    outfile.write(json_object)\n",
    "\n",
    "json_object = json.dumps(everything_part_18, indent=4,ensure_ascii=False)\n",
    "\n",
    "# Writing to sample.json\n",
    "with open(\"solr/everything_part_18_mood_remastered.json\", \"w\", encoding=\"utf8\") as outfile:\n",
    "    outfile.write(json_object)"
   ]
  },
  {
   "cell_type": "code",
   "execution_count": 41,
   "metadata": {},
   "outputs": [
    {
     "data": {
      "text/plain": [
       "[\"['neutral'\", ' 0.6748560667037964']"
      ]
     },
     "execution_count": 41,
     "metadata": {},
     "output_type": "execute_result"
    }
   ],
   "source": [
    "everything_part_1[0]['mood_percentage'][0][0].split(\":\")"
   ]
  },
  {
   "cell_type": "code",
   "execution_count": 31,
   "metadata": {},
   "outputs": [
    {
     "ename": "AttributeError",
     "evalue": "'list' object has no attribute 'split'",
     "output_type": "error",
     "traceback": [
      "\u001b[1;31m---------------------------------------------------------------------------\u001b[0m",
      "\u001b[1;31mAttributeError\u001b[0m                            Traceback (most recent call last)",
      "Cell \u001b[1;32mIn [31], line 1\u001b[0m\n\u001b[1;32m----> 1\u001b[0m moods\u001b[39m=\u001b[39meverything_part_1[\u001b[39m0\u001b[39;49m][\u001b[39m'\u001b[39;49m\u001b[39mmood_percentage\u001b[39;49m\u001b[39m'\u001b[39;49m][\u001b[39m0\u001b[39;49m][\u001b[39m1\u001b[39;49m:]\u001b[39m.\u001b[39;49msplit(\u001b[39m'\u001b[39m\u001b[39m,\u001b[39m\u001b[39m'\u001b[39m)\n",
      "\u001b[1;31mAttributeError\u001b[0m: 'list' object has no attribute 'split'"
     ]
    }
   ],
   "source": [
    "moods=everything_part_1[0]['mood_percentage'][0][1:].split(',')"
   ]
  },
  {
   "cell_type": "code",
   "execution_count": 17,
   "metadata": {},
   "outputs": [
    {
     "name": "stdout",
     "output_type": "stream",
     "text": [
      "'neutral:0.8945003151893616'\n",
      " 'disgust:0.07313932478427887'\n",
      " 'anger:0.013667065650224686'\n",
      " 'sadness:0.007685441058129072'\n",
      " 'fear:0.005411812104284763'\n",
      " 'surprise:0.003007039660587907'\n",
      " 'joy:0.0025889258831739426']\n"
     ]
    }
   ],
   "source": [
    "for i in moods:\n",
    "    print(i)"
   ]
  },
  {
   "cell_type": "code",
   "execution_count": 27,
   "metadata": {},
   "outputs": [
    {
     "name": "stdout",
     "output_type": "stream",
     "text": [
      "368\n"
     ]
    }
   ],
   "source": [
    "authors=everything_part_1[20]['page_count']\n",
    "print(authors)"
   ]
  }
 ],
 "metadata": {
  "kernelspec": {
   "display_name": "Python 3.9.13 64-bit (microsoft store)",
   "language": "python",
   "name": "python3"
  },
  "language_info": {
   "codemirror_mode": {
    "name": "ipython",
    "version": 3
   },
   "file_extension": ".py",
   "mimetype": "text/x-python",
   "name": "python",
   "nbconvert_exporter": "python",
   "pygments_lexer": "ipython3",
   "version": "3.9.13"
  },
  "orig_nbformat": 4,
  "vscode": {
   "interpreter": {
    "hash": "bfdafa545f090f477f4073918875fa08440a91c7c53d3eb126dec86f72269011"
   }
  }
 },
 "nbformat": 4,
 "nbformat_minor": 2
}
