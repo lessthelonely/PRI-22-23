{
 "cells": [
  {
   "cell_type": "code",
   "execution_count": 1,
   "metadata": {},
   "outputs": [],
   "source": [
    "import pandas as pd"
   ]
  },
  {
   "cell_type": "code",
   "execution_count": 3,
   "metadata": {},
   "outputs": [],
   "source": [
    "merge_2 = pd.read_json('solr/merge_2_after_script.json')\n",
    "everything_part_1 = pd.read_json('solr/everything_part_1.json')\n",
    "everything_part_2 = pd.read_json('solr/everything_part_2.json')\n",
    "everything_part_3 = pd.read_json('solr/everything_part_3.json')\n",
    "everything_part_4 = pd.read_json('solr/everything_part_4.json')\n",
    "everything_part_5 = pd.read_json('solr/everything_part_5.json')\n",
    "everything_part_6 = pd.read_json('solr/everything_part_6.json')\n",
    "everything_part_7 = pd.read_json('solr/everything_part_7.json')\n",
    "everything_part_8 = pd.read_json('solr/everything_part_8.json')\n",
    "everything_part_9 = pd.read_json('solr/everything_part_9.json')\n",
    "everything_part_10 = pd.read_json('solr/everything_part_10.json')\n",
    "everything_part_11 = pd.read_json('solr/everything_part_11.json')\n",
    "everything_part_12 = pd.read_json('solr/everything_part_12.json')\n",
    "everything_part_13 = pd.read_json('solr/everything_part_13.json')\n",
    "#everything_part_14 = pd.read_json('solr/everything_part_14.json')\n",
    "everything_part_15 = pd.read_json('solr/everything_part_15.json')\n",
    "#everything_part_16 = pd.read_json('solr/everything_part_16.json')\n",
    "everything_part_17 = pd.read_json('solr/everything_part_17.json')\n",
    "everything_part_18 = pd.read_json('solr/everything_part_18.json')"
   ]
  },
  {
   "cell_type": "code",
   "execution_count": 42,
   "metadata": {},
   "outputs": [
    {
     "ename": "JSONDecodeError",
     "evalue": "Expecting value: line 22987 column 9 (char 4413439)",
     "output_type": "error",
     "traceback": [
      "\u001b[1;31m---------------------------------------------------------------------------\u001b[0m",
      "\u001b[1;31mJSONDecodeError\u001b[0m                           Traceback (most recent call last)",
      "Cell \u001b[1;32mIn [42], line 48\u001b[0m\n\u001b[0;32m     45\u001b[0m    everything_part_15 \u001b[39m=\u001b[39m json\u001b[39m.\u001b[39mload(f)\n\u001b[0;32m     47\u001b[0m \u001b[39mwith\u001b[39;00m \u001b[39mopen\u001b[39m(\u001b[39m'\u001b[39m\u001b[39meverything_part_16.json\u001b[39m\u001b[39m'\u001b[39m, encoding\u001b[39m=\u001b[39m\u001b[39m'\u001b[39m\u001b[39mutf8\u001b[39m\u001b[39m'\u001b[39m) \u001b[39mas\u001b[39;00m f:\n\u001b[1;32m---> 48\u001b[0m    everything_part_16 \u001b[39m=\u001b[39m json\u001b[39m.\u001b[39;49mload(f)\n\u001b[0;32m     50\u001b[0m \u001b[39mwith\u001b[39;00m \u001b[39mopen\u001b[39m(\u001b[39m'\u001b[39m\u001b[39msolr/everything_part_17.json\u001b[39m\u001b[39m'\u001b[39m, encoding\u001b[39m=\u001b[39m\u001b[39m'\u001b[39m\u001b[39mutf8\u001b[39m\u001b[39m'\u001b[39m) \u001b[39mas\u001b[39;00m f:\n\u001b[0;32m     51\u001b[0m    everything_part_17 \u001b[39m=\u001b[39m json\u001b[39m.\u001b[39mload(f)\n",
      "File \u001b[1;32mC:\\Program Files\\WindowsApps\\PythonSoftwareFoundation.Python.3.9_3.9.3568.0_x64__qbz5n2kfra8p0\\lib\\json\\__init__.py:293\u001b[0m, in \u001b[0;36mload\u001b[1;34m(fp, cls, object_hook, parse_float, parse_int, parse_constant, object_pairs_hook, **kw)\u001b[0m\n\u001b[0;32m    274\u001b[0m \u001b[39mdef\u001b[39;00m \u001b[39mload\u001b[39m(fp, \u001b[39m*\u001b[39m, \u001b[39mcls\u001b[39m\u001b[39m=\u001b[39m\u001b[39mNone\u001b[39;00m, object_hook\u001b[39m=\u001b[39m\u001b[39mNone\u001b[39;00m, parse_float\u001b[39m=\u001b[39m\u001b[39mNone\u001b[39;00m,\n\u001b[0;32m    275\u001b[0m         parse_int\u001b[39m=\u001b[39m\u001b[39mNone\u001b[39;00m, parse_constant\u001b[39m=\u001b[39m\u001b[39mNone\u001b[39;00m, object_pairs_hook\u001b[39m=\u001b[39m\u001b[39mNone\u001b[39;00m, \u001b[39m*\u001b[39m\u001b[39m*\u001b[39mkw):\n\u001b[0;32m    276\u001b[0m     \u001b[39m\"\"\"Deserialize ``fp`` (a ``.read()``-supporting file-like object containing\u001b[39;00m\n\u001b[0;32m    277\u001b[0m \u001b[39m    a JSON document) to a Python object.\u001b[39;00m\n\u001b[0;32m    278\u001b[0m \n\u001b[1;32m   (...)\u001b[0m\n\u001b[0;32m    291\u001b[0m \u001b[39m    kwarg; otherwise ``JSONDecoder`` is used.\u001b[39;00m\n\u001b[0;32m    292\u001b[0m \u001b[39m    \"\"\"\u001b[39;00m\n\u001b[1;32m--> 293\u001b[0m     \u001b[39mreturn\u001b[39;00m loads(fp\u001b[39m.\u001b[39mread(),\n\u001b[0;32m    294\u001b[0m         \u001b[39mcls\u001b[39m\u001b[39m=\u001b[39m\u001b[39mcls\u001b[39m, object_hook\u001b[39m=\u001b[39mobject_hook,\n\u001b[0;32m    295\u001b[0m         parse_float\u001b[39m=\u001b[39mparse_float, parse_int\u001b[39m=\u001b[39mparse_int,\n\u001b[0;32m    296\u001b[0m         parse_constant\u001b[39m=\u001b[39mparse_constant, object_pairs_hook\u001b[39m=\u001b[39mobject_pairs_hook, \u001b[39m*\u001b[39m\u001b[39m*\u001b[39mkw)\n",
      "File \u001b[1;32mC:\\Program Files\\WindowsApps\\PythonSoftwareFoundation.Python.3.9_3.9.3568.0_x64__qbz5n2kfra8p0\\lib\\json\\__init__.py:346\u001b[0m, in \u001b[0;36mloads\u001b[1;34m(s, cls, object_hook, parse_float, parse_int, parse_constant, object_pairs_hook, **kw)\u001b[0m\n\u001b[0;32m    341\u001b[0m     s \u001b[39m=\u001b[39m s\u001b[39m.\u001b[39mdecode(detect_encoding(s), \u001b[39m'\u001b[39m\u001b[39msurrogatepass\u001b[39m\u001b[39m'\u001b[39m)\n\u001b[0;32m    343\u001b[0m \u001b[39mif\u001b[39;00m (\u001b[39mcls\u001b[39m \u001b[39mis\u001b[39;00m \u001b[39mNone\u001b[39;00m \u001b[39mand\u001b[39;00m object_hook \u001b[39mis\u001b[39;00m \u001b[39mNone\u001b[39;00m \u001b[39mand\u001b[39;00m\n\u001b[0;32m    344\u001b[0m         parse_int \u001b[39mis\u001b[39;00m \u001b[39mNone\u001b[39;00m \u001b[39mand\u001b[39;00m parse_float \u001b[39mis\u001b[39;00m \u001b[39mNone\u001b[39;00m \u001b[39mand\u001b[39;00m\n\u001b[0;32m    345\u001b[0m         parse_constant \u001b[39mis\u001b[39;00m \u001b[39mNone\u001b[39;00m \u001b[39mand\u001b[39;00m object_pairs_hook \u001b[39mis\u001b[39;00m \u001b[39mNone\u001b[39;00m \u001b[39mand\u001b[39;00m \u001b[39mnot\u001b[39;00m kw):\n\u001b[1;32m--> 346\u001b[0m     \u001b[39mreturn\u001b[39;00m _default_decoder\u001b[39m.\u001b[39;49mdecode(s)\n\u001b[0;32m    347\u001b[0m \u001b[39mif\u001b[39;00m \u001b[39mcls\u001b[39m \u001b[39mis\u001b[39;00m \u001b[39mNone\u001b[39;00m:\n\u001b[0;32m    348\u001b[0m     \u001b[39mcls\u001b[39m \u001b[39m=\u001b[39m JSONDecoder\n",
      "File \u001b[1;32mC:\\Program Files\\WindowsApps\\PythonSoftwareFoundation.Python.3.9_3.9.3568.0_x64__qbz5n2kfra8p0\\lib\\json\\decoder.py:337\u001b[0m, in \u001b[0;36mJSONDecoder.decode\u001b[1;34m(self, s, _w)\u001b[0m\n\u001b[0;32m    332\u001b[0m \u001b[39mdef\u001b[39;00m \u001b[39mdecode\u001b[39m(\u001b[39mself\u001b[39m, s, _w\u001b[39m=\u001b[39mWHITESPACE\u001b[39m.\u001b[39mmatch):\n\u001b[0;32m    333\u001b[0m     \u001b[39m\"\"\"Return the Python representation of ``s`` (a ``str`` instance\u001b[39;00m\n\u001b[0;32m    334\u001b[0m \u001b[39m    containing a JSON document).\u001b[39;00m\n\u001b[0;32m    335\u001b[0m \n\u001b[0;32m    336\u001b[0m \u001b[39m    \"\"\"\u001b[39;00m\n\u001b[1;32m--> 337\u001b[0m     obj, end \u001b[39m=\u001b[39m \u001b[39mself\u001b[39;49m\u001b[39m.\u001b[39;49mraw_decode(s, idx\u001b[39m=\u001b[39;49m_w(s, \u001b[39m0\u001b[39;49m)\u001b[39m.\u001b[39;49mend())\n\u001b[0;32m    338\u001b[0m     end \u001b[39m=\u001b[39m _w(s, end)\u001b[39m.\u001b[39mend()\n\u001b[0;32m    339\u001b[0m     \u001b[39mif\u001b[39;00m end \u001b[39m!=\u001b[39m \u001b[39mlen\u001b[39m(s):\n",
      "File \u001b[1;32mC:\\Program Files\\WindowsApps\\PythonSoftwareFoundation.Python.3.9_3.9.3568.0_x64__qbz5n2kfra8p0\\lib\\json\\decoder.py:355\u001b[0m, in \u001b[0;36mJSONDecoder.raw_decode\u001b[1;34m(self, s, idx)\u001b[0m\n\u001b[0;32m    353\u001b[0m     obj, end \u001b[39m=\u001b[39m \u001b[39mself\u001b[39m\u001b[39m.\u001b[39mscan_once(s, idx)\n\u001b[0;32m    354\u001b[0m \u001b[39mexcept\u001b[39;00m \u001b[39mStopIteration\u001b[39;00m \u001b[39mas\u001b[39;00m err:\n\u001b[1;32m--> 355\u001b[0m     \u001b[39mraise\u001b[39;00m JSONDecodeError(\u001b[39m\"\u001b[39m\u001b[39mExpecting value\u001b[39m\u001b[39m\"\u001b[39m, s, err\u001b[39m.\u001b[39mvalue) \u001b[39mfrom\u001b[39;00m \u001b[39mNone\u001b[39m\n\u001b[0;32m    356\u001b[0m \u001b[39mreturn\u001b[39;00m obj, end\n",
      "\u001b[1;31mJSONDecodeError\u001b[0m: Expecting value: line 22987 column 9 (char 4413439)"
     ]
    }
   ],
   "source": [
    "import json \n",
    "with open('solr/everything_part_1.json', encoding='utf8') as f:\n",
    "   everything_part_1 = json.load(f)\n",
    "\n",
    "with open('solr/everything_part_2.json', encoding='utf8') as f:\n",
    "   everything_part_2 = json.load(f)\n",
    "\n",
    "with open('solr/everything_part_3.json', encoding='utf8') as f:\n",
    "   everything_part_3 = json.load(f)\n",
    "\n",
    "with open('solr/everything_part_4.json', encoding='utf8') as f:\n",
    "   everything_part_4 = json.load(f)\n",
    "\n",
    "with open('solr/everything_part_5.json', encoding='utf8') as f:\n",
    "   everything_part_5 = json.load(f)\n",
    "\n",
    "with open('solr/everything_part_6.json', encoding='utf8') as f:\n",
    "   everything_part_6 = json.load(f)\n",
    "\n",
    "with open('solr/everything_part_7.json', encoding='utf8') as f:\n",
    "   everything_part_7 = json.load(f)\n",
    "\n",
    "with open('solr/everything_part_8.json', encoding='utf8') as f:\n",
    "   everything_part_8 = json.load(f)\n",
    "\n",
    "with open('solr/everything_part_9.json', encoding='utf8') as f:\n",
    "   everything_part_9 = json.load(f)\n",
    "\n",
    "with open('solr/everything_part_10.json', encoding='utf8') as f:\n",
    "   everything_part_10 = json.load(f)\n",
    "\n",
    "with open('solr/everything_part_11.json', encoding='utf8') as f:\n",
    "   everything_part_11 = json.load(f)\n",
    "\n",
    "with open('solr/everything_part_12.json', encoding='utf8') as f:\n",
    "   everything_part_12 = json.load(f)\n",
    "\n",
    "with open('solr/everything_part_13.json', encoding='utf8') as f:\n",
    "   everything_part_13 = json.load(f)\n",
    "\n",
    "with open('solr/everything_part_14.json', encoding='utf8') as f:\n",
    "   everything_part_14 = json.load(f)\n",
    "\n",
    "with open('solr/everything_part_15.json', encoding='utf8') as f:\n",
    "   everything_part_15 = json.load(f)\n",
    "\n",
    "with open('everything_part_16.json', encoding='utf8') as f:\n",
    "   everything_part_16 = json.load(f)\n",
    "\n",
    "with open('solr/everything_part_17.json', encoding='utf8') as f:\n",
    "   everything_part_17 = json.load(f)\n",
    "\n",
    "with open('solr/everything_part_18.json', encoding='utf8') as f:\n",
    "   everything_part_18 = json.load(f)"
   ]
  },
  {
   "cell_type": "code",
   "execution_count": 23,
   "metadata": {},
   "outputs": [],
   "source": [
    "import json \n",
    "with open('solr/everything_part_1.json', encoding='utf8') as f:\n",
    "   everything_part_1 = json.load(f)\n"
   ]
  },
  {
   "cell_type": "code",
   "execution_count": 37,
   "metadata": {},
   "outputs": [],
   "source": [
    "json_object = json.dumps(data, indent=4,ensure_ascii=False)\n",
    "\n",
    "# Writing to sample.json\n",
    "with open(\"sample.json\", \"w\", encoding=\"utf8\") as outfile:\n",
    "    outfile.write(json_object)"
   ]
  },
  {
   "cell_type": "code",
   "execution_count": 25,
   "metadata": {},
   "outputs": [],
   "source": [
    "pd_data = pd.DataFrame(data)"
   ]
  },
  {
   "cell_type": "code",
   "execution_count": 10,
   "metadata": {},
   "outputs": [],
   "source": [
    "def map_mood(id):\n",
    "    return [merge_2.loc[merge_2['id'] == id]['mood'].values[0]]\n"
   ]
  },
  {
   "cell_type": "code",
   "execution_count": 26,
   "metadata": {},
   "outputs": [],
   "source": [
    "moods_part_14 = list(map(map_mood, pd_data['id']))"
   ]
  },
  {
   "cell_type": "code",
   "execution_count": 30,
   "metadata": {},
   "outputs": [],
   "source": [
    "moods_part_14\n",
    "pd_data['mood'] = moods_part_14\n",
    "pd_data.to_json('solr/everything_part_14_mood.json', orient='records')"
   ]
  },
  {
   "cell_type": "code",
   "execution_count": 13,
   "metadata": {},
   "outputs": [],
   "source": [
    "moods_part_1 = list(map(map_mood, everything_part_1['id']))\n",
    "moods_part_2 = list(map(map_mood, everything_part_2['id']))\n",
    "moods_part_3 = list(map(map_mood, everything_part_3['id']))\n",
    "moods_part_4 = list(map(map_mood, everything_part_4['id']))\n",
    "moods_part_5 = list(map(map_mood, everything_part_5['id']))\n",
    "moods_part_6 = list(map(map_mood, everything_part_6['id']))\n",
    "moods_part_7 = list(map(map_mood, everything_part_7['id']))\n",
    "moods_part_8 = list(map(map_mood, everything_part_8['id']))\n",
    "moods_part_9 = list(map(map_mood, everything_part_9['id']))\n",
    "moods_part_10 = list(map(map_mood, everything_part_10['id']))\n",
    "moods_part_11 = list(map(map_mood, everything_part_11['id']))\n",
    "moods_part_12 = list(map(map_mood, everything_part_12['id']))\n",
    "moods_part_13 = list(map(map_mood, everything_part_13['id']))\n",
    "#moods_part_14 = list(map(map_mood, everything_part_14['id']))\n",
    "moods_part_15 = list(map(map_mood, everything_part_15['id']))\n",
    "#moods_part_16 = list(map(map_mood, everything_part_16['id']))\n",
    "moods_part_17 = list(map(map_mood, everything_part_17['id']))\n",
    "moods_part_18 = list(map(map_mood, everything_part_18['id']))\n",
    "\n",
    "everything_part_1['mood'] = moods_part_1\n",
    "everything_part_2['mood'] = moods_part_2\n",
    "everything_part_3['mood'] = moods_part_3\n",
    "everything_part_4['mood'] = moods_part_4\n",
    "everything_part_5['mood'] = moods_part_5\n",
    "everything_part_6['mood'] = moods_part_6\n",
    "everything_part_7['mood'] = moods_part_7\n",
    "everything_part_8['mood'] = moods_part_8\n",
    "everything_part_9['mood'] = moods_part_9\n",
    "everything_part_10['mood'] = moods_part_10\n",
    "everything_part_11['mood'] = moods_part_11\n",
    "everything_part_12['mood'] = moods_part_12\n",
    "everything_part_13['mood'] = moods_part_13\n",
    "#everything_part_14['mood'] = moods_part_14\n",
    "everything_part_15['mood'] = moods_part_15\n",
    "#everything_part_16['mood'] = moods_part_16\n",
    "everything_part_17['mood'] = moods_part_17\n",
    "everything_part_18['mood'] = moods_part_18\n",
    "\n",
    "everything_part_1.to_json('solr/everything_part_1_mood.json', orient='records')\n",
    "everything_part_2.to_json('solr/everything_part_2_mood.json', orient='records')\n",
    "everything_part_3.to_json('solr/everything_part_3_mood.json', orient='records')\n",
    "everything_part_4.to_json('solr/everything_part_4_mood.json', orient='records')\n",
    "everything_part_5.to_json('solr/everything_part_5_mood.json', orient='records')\n",
    "everything_part_6.to_json('solr/everything_part_6_mood.json', orient='records')\n",
    "everything_part_7.to_json('solr/everything_part_7_mood.json', orient='records')\n",
    "everything_part_8.to_json('solr/everything_part_8_mood.json', orient='records')\n",
    "everything_part_9.to_json('solr/everything_part_9_mood.json', orient='records')\n",
    "everything_part_10.to_json('solr/everything_part_10_mood.json', orient='records')\n",
    "everything_part_11.to_json('solr/everything_part_11_mood.json', orient='records')\n",
    "everything_part_12.to_json('solr/everything_part_12_mood.json', orient='records')\n",
    "everything_part_13.to_json('solr/everything_part_13_mood.json', orient='records')\n",
    "#everything_part_14.to_json('solr/everything_part_14_mood.json')\n",
    "everything_part_15.to_json('solr/everything_part_15_mood.json', orient='records')\n",
    "#everything_part_16.to_json('solr/everything_part_16_mood.json')\n",
    "everything_part_17.to_json('solr/everything_part_17_mood.json', orient='records')\n",
    "everything_part_18.to_json('solr/everything_part_18_mood.json', orient='records')"
   ]
  },
  {
   "cell_type": "code",
   "execution_count": 15,
   "metadata": {},
   "outputs": [
    {
     "data": {
      "text/plain": [
       "0       https://goodreads.com/book/show/1001053.Betwee...\n",
       "1       https://goodreads.com/book/show/10010552-fashi...\n",
       "2       https://goodreads.com/book/show/1001077.Hungar...\n",
       "3       https://goodreads.com/book/show/1001090.The_Hu...\n",
       "4       https://goodreads.com/book/show/1001092.Compet...\n",
       "                              ...                        \n",
       "3612    https://goodreads.com/book/show/1034786.The_Co...\n",
       "3613    https://goodreads.com/book/show/10347913-wagin...\n",
       "3614    https://goodreads.com/book/show/10348092-anne-...\n",
       "3615    https://goodreads.com/book/show/10348386-the-i...\n",
       "3616    https://goodreads.com/book/show/10348782-secul...\n",
       "Name: link, Length: 3617, dtype: object"
      ]
     },
     "execution_count": 15,
     "metadata": {},
     "output_type": "execute_result"
    }
   ],
   "source": [
    "everything_part_1['link']"
   ]
  }
 ],
 "metadata": {
  "kernelspec": {
   "display_name": "Python 3.9.13 64-bit (microsoft store)",
   "language": "python",
   "name": "python3"
  },
  "language_info": {
   "codemirror_mode": {
    "name": "ipython",
    "version": 3
   },
   "file_extension": ".py",
   "mimetype": "text/x-python",
   "name": "python",
   "nbconvert_exporter": "python",
   "pygments_lexer": "ipython3",
   "version": "3.9.13"
  },
  "orig_nbformat": 4,
  "vscode": {
   "interpreter": {
    "hash": "bfdafa545f090f477f4073918875fa08440a91c7c53d3eb126dec86f72269011"
   }
  }
 },
 "nbformat": 4,
 "nbformat_minor": 2
}
