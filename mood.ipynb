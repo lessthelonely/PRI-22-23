{
 "cells": [
  {
   "cell_type": "code",
   "execution_count": 1,
   "metadata": {},
   "outputs": [],
   "source": [
    "import pandas as pd\n",
    "from transformers import pipeline"
   ]
  },
  {
   "cell_type": "code",
   "execution_count": 3,
   "metadata": {},
   "outputs": [],
   "source": [
    "merge_2 = pd.read_json('solr/merge_2.json')"
   ]
  },
  {
   "cell_type": "code",
   "execution_count": 5,
   "metadata": {},
   "outputs": [],
   "source": [
    "links = merge_2.link.unique()"
   ]
  },
  {
   "cell_type": "code",
   "execution_count": null,
   "metadata": {},
   "outputs": [],
   "source": [
    "classifier = pipeline(\"text-classification\", model='j-hartmann/emotion-english-distilroberta-base', top_k=7)\n",
    "\n",
    "to_analyse = \"I am very happy and this is a test\"\n",
    "print(to_analyse)"
   ]
  },
  {
   "cell_type": "code",
   "execution_count": 4,
   "metadata": {},
   "outputs": [
    {
     "data": {
      "text/plain": [
       "0                              [neutral, disgust, sadness]\n",
       "1                                           [neutral, joy]\n",
       "2                                                   [fear]\n",
       "3                    [neutral, disgust, surprise, sadness]\n",
       "4                                                [neutral]\n",
       "                               ...                        \n",
       "65086    [neutral, fear, surprise, anger, disgust, joy,...\n",
       "65087    [neutral, surprise, anger, disgust, joy, sadness]\n",
       "65088                             [neutral, surprise, joy]\n",
       "65089                    [neutral, disgust, joy, surprise]\n",
       "65090                             [fear, neutral, sadness]\n",
       "Name: mood, Length: 65091, dtype: object"
      ]
     },
     "execution_count": 4,
     "metadata": {},
     "output_type": "execute_result"
    }
   ],
   "source": [
    "def map_moods(i):\n",
    "    sentiments=[]\n",
    "    for r in merge_2.loc[merge_2.link==i,'review'].values:\n",
    "        to_analyse = r \n",
    "        try:\n",
    "            predict=classifier(to_analyse, )\n",
    "            dataList = predict[0]\n",
    "        except:\n",
    "            continue\n",
    "        for dic in dataList:\n",
    "            print()\n",
    "            for key, value in dic.items():\n",
    "                print(key, ':', value)\n",
    "                sentiments.append(key + ':' + str(value))\n",
    "                \n",
    "    sentiments=', '.join(list(set(sentiments)))\n",
    "    print(sentiments)\n",
    "    merge_2.loc[merge_2.link==i,'mood']=sentiments\n",
    "    return sentiments"
   ]
  },
  {
   "cell_type": "code",
   "execution_count": null,
   "metadata": {},
   "outputs": [],
   "source": [
    "merge_2.to_json('solr/merge_2.json')"
   ]
  }
 ],
 "metadata": {
  "kernelspec": {
   "display_name": "Python 3.9.13 64-bit (microsoft store)",
   "language": "python",
   "name": "python3"
  },
  "language_info": {
   "codemirror_mode": {
    "name": "ipython",
    "version": 3
   },
   "file_extension": ".py",
   "mimetype": "text/x-python",
   "name": "python",
   "nbconvert_exporter": "python",
   "pygments_lexer": "ipython3",
   "version": "3.9.13"
  },
  "orig_nbformat": 4,
  "vscode": {
   "interpreter": {
    "hash": "bfdafa545f090f477f4073918875fa08440a91c7c53d3eb126dec86f72269011"
   }
  }
 },
 "nbformat": 4,
 "nbformat_minor": 2
}
