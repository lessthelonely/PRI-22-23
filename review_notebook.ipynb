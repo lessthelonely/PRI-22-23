{
 "cells": [
  {
   "cell_type": "code",
   "execution_count": 1,
   "metadata": {},
   "outputs": [],
   "source": [
    "import pandas as pd\n",
    "import numpy as np\n",
    "import matplotlib.pyplot as plt\n",
    "import seaborn as sns\n",
    "from wordcloud import WordCloud"
   ]
  },
  {
   "cell_type": "code",
   "execution_count": 2,
   "metadata": {},
   "outputs": [],
   "source": [
    "clean_book = pd.read_csv('data/reviews_merged.csv')"
   ]
  },
  {
   "cell_type": "code",
   "execution_count": 3,
   "metadata": {},
   "outputs": [],
   "source": [
    "import spacy\n",
    "import en_core_web_sm\n",
    "from  spacy.lang.en.stop_words import STOP_WORDS\n",
    "nlp = en_core_web_sm.load()\n",
    "#nlp = spacy.load('en_core_web_sm')\n",
    "\n",
    "# To build a list of stop words for filtering\n",
    "stopwords = list(STOP_WORDS)"
   ]
  },
  {
   "cell_type": "code",
   "execution_count": 4,
   "metadata": {},
   "outputs": [
    {
     "name": "stderr",
     "output_type": "stream",
     "text": [
      "C:\\Users\\Melissa Silva\\AppData\\Local\\Temp\\ipykernel_21664\\451367946.py:2: FutureWarning: The default value of regex will change from True to False in a future version.\n",
      "  clean_book['review_without_stopwords'] = clean_book['review'].str.replace(pat, '')\n",
      "C:\\Users\\Melissa Silva\\AppData\\Local\\Temp\\ipykernel_21664\\451367946.py:3: FutureWarning: The default value of regex will change from True to False in a future version.\n",
      "  clean_book['review_without_stopwords'] = clean_book['review_without_stopwords'].str.replace(r'\\s+', ' ')\n"
     ]
    }
   ],
   "source": [
    "pat = r'\\b(?:{})\\b'.format('|'.join(stopwords))\n",
    "clean_book['review_without_stopwords'] = clean_book['review'].str.replace(pat, '')\n",
    "clean_book['review_without_stopwords'] = clean_book['review_without_stopwords'].str.replace(r'\\s+', ' ')"
   ]
  },
  {
   "cell_type": "code",
   "execution_count": 6,
   "metadata": {},
   "outputs": [],
   "source": [
    "comment_words = ''\n",
    "\n",
    "r_clean = clean_book.loc[~clean_book['review_without_stopwords'].isnull()]\n",
    "for _, row in r_clean.iterrows():\n",
    "    review_list = row['review_without_stopwords'].split(',')\n",
    "    for g in review_list:\n",
    "        #if g in stopwords:\n",
    "         #   review_list.remove(g)\n",
    "        g.replace(\" \", \"\")\n",
    "    comment_words += \" \".join(review_list) + \" \"\n",
    "\n",
    "wordcloud = WordCloud(width = 800, height = 800,\n",
    "                background_color ='white',\n",
    "                stopwords = r_clean.keys(),\n",
    "                min_font_size = 10).generate(comment_words)\n",
    " \n",
    "# plot the WordCloud image                      \n",
    "plt.figure(figsize = (8, 8), facecolor = None)\n",
    "plt.imshow(wordcloud)\n",
    "plt.axis(\"off\")\n",
    "plt.tight_layout(pad = 0)\n",
    " \n",
    "plt.show()"
   ]
  }
 ],
 "metadata": {
  "kernelspec": {
   "display_name": "Python 3.9.13 64-bit (microsoft store)",
   "language": "python",
   "name": "python3"
  },
  "language_info": {
   "codemirror_mode": {
    "name": "ipython",
    "version": 3
   },
   "file_extension": ".py",
   "mimetype": "text/x-python",
   "name": "python",
   "nbconvert_exporter": "python",
   "pygments_lexer": "ipython3",
   "version": "3.9.13"
  },
  "orig_nbformat": 4,
  "vscode": {
   "interpreter": {
    "hash": "347985429a9b7f6cf65bca758370600928313cf45b8f05cf08efea481e6f74dc"
   }
  }
 },
 "nbformat": 4,
 "nbformat_minor": 2
}
