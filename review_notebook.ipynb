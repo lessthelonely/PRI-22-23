{
 "cells": [
  {
   "cell_type": "code",
   "execution_count": null,
   "metadata": {},
   "outputs": [],
   "source": []
  }
 ],
 "metadata": {
  "kernelspec": {
   "display_name": "Python 3.9.13 64-bit (microsoft store)",
   "language": "python",
   "name": "python3"
  },
  "language_info": {
   "name": "python",
   "version": "3.9.13"
  },
  "orig_nbformat": 4,
  "vscode": {
   "interpreter": {
    "hash": "347985429a9b7f6cf65bca758370600928313cf45b8f05cf08efea481e6f74dc"
   }
  }
 },
 "nbformat": 4,
 "nbformat_minor": 2
}
