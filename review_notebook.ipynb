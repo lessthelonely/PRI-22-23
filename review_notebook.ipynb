{
 "cells": [
  {
   "cell_type": "code",
   "execution_count": 2,
   "metadata": {},
   "outputs": [],
   "source": [
    "import pandas as pd\n",
    "import numpy as np\n",
    "import matplotlib.pyplot as plt\n",
    "import seaborn as sns\n",
    "from wordcloud import WordCloud"
   ]
  },
  {
   "cell_type": "code",
   "execution_count": 3,
   "metadata": {},
   "outputs": [],
   "source": [
    "clean_book = pd.read_csv('data/reviews_merged.csv')"
   ]
  },
  {
   "cell_type": "code",
   "execution_count": 3,
   "metadata": {},
   "outputs": [],
   "source": [
    "import spacy\n",
    "from spacy.lang.en.stop_words import STOP_WORDS\n",
    "\n",
    "nlp = spacy.load('en_core_web_sm')\n",
    "\n",
    "# To build a list of stop words for filtering\n",
    "stopwords = list(STOP_WORDS)"
   ]
  },
  {
   "cell_type": "code",
   "execution_count": 4,
   "metadata": {},
   "outputs": [
    {
     "name": "stderr",
     "output_type": "stream",
     "text": [
      "C:\\Users\\LENOVO\\AppData\\Local\\Temp\\ipykernel_26276\\451367946.py:2: FutureWarning: The default value of regex will change from True to False in a future version.\n",
      "  clean_book['review_without_stopwords'] = clean_book['review'].str.replace(pat, '')\n",
      "C:\\Users\\LENOVO\\AppData\\Local\\Temp\\ipykernel_26276\\451367946.py:3: FutureWarning: The default value of regex will change from True to False in a future version.\n",
      "  clean_book['review_without_stopwords'] = clean_book['review_without_stopwords'].str.replace(r'\\s+', ' ')\n"
     ]
    }
   ],
   "source": [
    "pat = r'\\b(?:{})\\b'.format('|'.join(stopwords))\n",
    "clean_book['review_without_stopwords'] = clean_book['review'].str.replace(pat, '')\n",
    "clean_book['review_without_stopwords'] = clean_book['review_without_stopwords'].str.replace(r'\\s+', ' ')"
   ]
  },
  {
   "cell_type": "code",
   "execution_count": null,
   "metadata": {},
   "outputs": [],
   "source": [
    "comment_words = ''\n",
    "font_path='font/Barlow-Regular.ttf'\n",
    "\n",
    "r_clean = clean_book.loc[~clean_book['review_without_stopwords'].isnull()]\n",
    "for _, row in r_clean.iterrows():\n",
    "    review_list = row['review_without_stopwords'].split(',')\n",
    "    for g in review_list:\n",
    "        #if g in stopwords:\n",
    "         #   review_list.remove(g)\n",
    "        g.replace(\" \", \"\")\n",
    "    comment_words += \" \".join(review_list) + \" \"\n",
    "\n",
    "wordcloud = WordCloud(font_path=font_path,width = 1000, height = 1000,\n",
    "                background_color ='white',\n",
    "                stopwords = r_clean.keys(),\n",
    "                min_font_size = 20).generate(comment_words)\n",
    " \n",
    "# plot the WordCloud image                      \n",
    "plt.figure(figsize = (30, 30), facecolor = None)\n",
    "plt.imshow(wordcloud)\n",
    "plt.axis(\"off\")\n",
    "plt.tight_layout(pad = 0)\n",
    " \n",
    "plt.show()"
   ]
  }
 ],
 "metadata": {
  "kernelspec": {
   "display_name": "Python 3.10.7 64-bit (microsoft store)",
   "language": "python",
   "name": "python3"
  },
  "language_info": {
   "codemirror_mode": {
    "name": "ipython",
    "version": 3
   },
   "file_extension": ".py",
   "mimetype": "text/x-python",
   "name": "python",
   "nbconvert_exporter": "python",
   "pygments_lexer": "ipython3",
   "version": "3.10.7"
  },
  "orig_nbformat": 4,
  "vscode": {
   "interpreter": {
    "hash": "84fd2673a0f847bf80637898000f9b4175f2ffd476d5f31b41a838c2acdb5b76"
   }
  }
 },
 "nbformat": 4,
 "nbformat_minor": 2
}
