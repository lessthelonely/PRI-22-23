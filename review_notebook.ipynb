{
 "cells": [
  {
   "cell_type": "code",
   "execution_count": 2,
   "metadata": {},
   "outputs": [],
   "source": [
    "import pandas as pd\n",
    "import numpy as np\n",
    "import matplotlib.pyplot as plt\n",
    "import seaborn as sns\n",
    "from wordcloud import WordCloud"
   ]
  },
  {
   "cell_type": "code",
   "execution_count": 3,
   "metadata": {},
   "outputs": [],
   "source": [
    "clean_book = pd.read_csv('data/cleaned_reviews.csv')"
   ]
  },
  {
   "cell_type": "code",
   "execution_count": 4,
   "metadata": {},
   "outputs": [
    {
     "name": "stdout",
     "output_type": "stream",
     "text": [
      "['‘d', 'somehow', 'hereby', 'below', 'your', 'anyway', 'had', 'there', 'you', 'around', 'seeming', 'eight', 'however', 'namely', 'everything', 'front', 'hundred', 'this', 'toward', 'ourselves', 'forty', 'else', 'whoever', 'first', 'many', 'became', 'top', 'sometimes', 'every', 'n‘t', 'why', 'we', 'afterwards', 'thereupon', 'them', 'keep', 'these', 'until', 'will', 'beyond', 'been', 'others', 'otherwise', \"n't\", 'doing', 'due', 'may', 'done', 'no', 'six', 'thru', 'about', 'where', 'yourselves', 'therein', 'whereas', 'formerly', 'together', 'beforehand', 'another', 'then', 'now', 'unless', \"'ve\", 'him', 'already', 'here', 'what', 'above', 'even', 'whenever', 'therefore', 'herein', 'our', 'down', 'off', 'or', 'was', 'mine', '’re', 'nothing', 'someone', 'thereby', 'he', 'yours', 'though', 'please', 'up', 'is', 'per', '’m', 'seems', 'former', 'really', 'more', 'of', 'with', 'enough', 'anyhow', 'for', 'much', \"'ll\", 'meanwhile', 'empty', 'just', '’d', 'everyone', 'his', 'almost', 'once', 'few', 'as', 'less', 'most', 'were', 'always', 'between', 'me', 'thus', '’s', 'herself', 'various', 'become', 'be', 'when', 'everywhere', 'ours', 'so', 'against', 'four', 'upon', 'because', 'whose', 'would', '‘s', 'it', 'becomes', '’ve', 'further', 'twelve', 'give', 'its', 'same', 'whereafter', 'although', 'two', 'himself', 'i', 'themselves', 'us', 'amongst', 'third', 'hereafter', 'some', 'elsewhere', 'part', 'that', 'using', 'if', 'besides', \"'re\", 'quite', 'none', 'move', '‘ll', 'also', 'by', 'nevertheless', 'own', 'ten', 'nowhere', 'nor', 'anything', 'without', '‘ve', 'must', 'somewhere', 'whatever', 'in', 'into', \"'d\", 'and', 'next', 'across', 'my', 'either', 'along', 'before', 'moreover', 'cannot', 'nobody', 'twenty', 'which', 'could', 'yet', 'sixty', 'back', 'fifteen', 'fifty', 'seem', 'thereafter', 'make', 'do', 'ever', 'how', 'they', 'both', 'indeed', 'least', 'one', 'only', 'bottom', 'whither', 'wherever', 'hers', 'whether', 'can', 'say', 'latter', 'whole', 'not', \"'s\", 'behind', 'should', 'well', 'onto', 'are', 'to', 'but', 'five', 'beside', 'under', 'did', 'on', 'mostly', 'might', 'neither', 'such', 'becoming', 'go', 'latterly', \"'m\", 'wherein', 'except', 'ca', 'any', 'an', 'put', 'still', 'whence', 'something', 'the', 're', '‘re', 'see', 'a', 'whom', 'since', 'yourself', 'whereby', 'each', 'her', 'out', 'name', 'take', 'nine', 'hence', 'eleven', 'am', 'all', 'very', 'used', 'never', 'who', 'after', 'during', 'call', 'alone', '‘m', 'while', 'full', 'several', 'thence', 'perhaps', 'side', 'serious', 'their', 'from', 'last', 'noone', 'itself', 'rather', 'within', 'through', 'myself', 'seemed', 'over', 'via', 'throughout', '’ll', 'other', 'being', 'three', 'does', 'get', 'n’t', 'often', 'among', 'anyone', 'again', 'sometime', 'hereupon', 'whereupon', 'has', 'those', 'show', 'towards', 'anywhere', 'than', 'too', 'made', 'at', 'she', 'amount', 'have', 'regarding']\n"
     ]
    }
   ],
   "source": [
    "import spacy\n",
    "import en_core_web_sm\n",
    "from  spacy.lang.en.stop_words import STOP_WORDS\n",
    "nlp = en_core_web_sm.load()\n",
    "#nlp = spacy.load('en_core_web_sm')\n",
    "\n",
    "# To build a list of stop words for filtering\n",
    "stopwords = list(STOP_WORDS)\n",
    "print(stopwords)"
   ]
  },
  {
   "cell_type": "code",
   "execution_count": 5,
   "metadata": {},
   "outputs": [
    {
     "ename": "KeyboardInterrupt",
     "evalue": "",
     "output_type": "error",
     "traceback": [
      "\u001b[1;31m---------------------------------------------------------------------------\u001b[0m",
      "\u001b[1;31mKeyboardInterrupt\u001b[0m                         Traceback (most recent call last)",
      "\u001b[1;32md:\\Users\\Melissa Silva\\Documents\\GitHub\\PRI-22-23\\review_notebook.ipynb Cell 4\u001b[0m in \u001b[0;36m<cell line: 4>\u001b[1;34m()\u001b[0m\n\u001b[0;32m      <a href='vscode-notebook-cell:/d%3A/Users/Melissa%20Silva/Documents/GitHub/PRI-22-23/review_notebook.ipynb#W3sZmlsZQ%3D%3D?line=5'>6</a>\u001b[0m     \u001b[39mfor\u001b[39;00m g \u001b[39min\u001b[39;00m review_list:\n\u001b[0;32m      <a href='vscode-notebook-cell:/d%3A/Users/Melissa%20Silva/Documents/GitHub/PRI-22-23/review_notebook.ipynb#W3sZmlsZQ%3D%3D?line=6'>7</a>\u001b[0m         \u001b[39m#if g in stopwords:\u001b[39;00m\n\u001b[0;32m      <a href='vscode-notebook-cell:/d%3A/Users/Melissa%20Silva/Documents/GitHub/PRI-22-23/review_notebook.ipynb#W3sZmlsZQ%3D%3D?line=7'>8</a>\u001b[0m          \u001b[39m#   review_list.remove(g)\u001b[39;00m\n\u001b[0;32m      <a href='vscode-notebook-cell:/d%3A/Users/Melissa%20Silva/Documents/GitHub/PRI-22-23/review_notebook.ipynb#W3sZmlsZQ%3D%3D?line=8'>9</a>\u001b[0m         g\u001b[39m.\u001b[39mreplace(\u001b[39m\"\u001b[39m\u001b[39m \u001b[39m\u001b[39m\"\u001b[39m, \u001b[39m\"\u001b[39m\u001b[39m\"\u001b[39m)\n\u001b[1;32m---> <a href='vscode-notebook-cell:/d%3A/Users/Melissa%20Silva/Documents/GitHub/PRI-22-23/review_notebook.ipynb#W3sZmlsZQ%3D%3D?line=9'>10</a>\u001b[0m     comment_words \u001b[39m+\u001b[39m\u001b[39m=\u001b[39m \u001b[39m\"\u001b[39m\u001b[39m \u001b[39m\u001b[39m\"\u001b[39m\u001b[39m.\u001b[39mjoin(review_list) \u001b[39m+\u001b[39m \u001b[39m\"\u001b[39m\u001b[39m \u001b[39m\u001b[39m\"\u001b[39m\n\u001b[0;32m     <a href='vscode-notebook-cell:/d%3A/Users/Melissa%20Silva/Documents/GitHub/PRI-22-23/review_notebook.ipynb#W3sZmlsZQ%3D%3D?line=11'>12</a>\u001b[0m wordcloud \u001b[39m=\u001b[39m WordCloud(width \u001b[39m=\u001b[39m \u001b[39m800\u001b[39m, height \u001b[39m=\u001b[39m \u001b[39m800\u001b[39m,\n\u001b[0;32m     <a href='vscode-notebook-cell:/d%3A/Users/Melissa%20Silva/Documents/GitHub/PRI-22-23/review_notebook.ipynb#W3sZmlsZQ%3D%3D?line=12'>13</a>\u001b[0m                 background_color \u001b[39m=\u001b[39m\u001b[39m'\u001b[39m\u001b[39mwhite\u001b[39m\u001b[39m'\u001b[39m,\n\u001b[0;32m     <a href='vscode-notebook-cell:/d%3A/Users/Melissa%20Silva/Documents/GitHub/PRI-22-23/review_notebook.ipynb#W3sZmlsZQ%3D%3D?line=13'>14</a>\u001b[0m                 stopwords \u001b[39m=\u001b[39m r_clean\u001b[39m.\u001b[39mkeys(),\n\u001b[0;32m     <a href='vscode-notebook-cell:/d%3A/Users/Melissa%20Silva/Documents/GitHub/PRI-22-23/review_notebook.ipynb#W3sZmlsZQ%3D%3D?line=14'>15</a>\u001b[0m                 min_font_size \u001b[39m=\u001b[39m \u001b[39m10\u001b[39m)\u001b[39m.\u001b[39mgenerate(comment_words)\n\u001b[0;32m     <a href='vscode-notebook-cell:/d%3A/Users/Melissa%20Silva/Documents/GitHub/PRI-22-23/review_notebook.ipynb#W3sZmlsZQ%3D%3D?line=16'>17</a>\u001b[0m \u001b[39m# plot the WordCloud image                      \u001b[39;00m\n",
      "\u001b[1;31mKeyboardInterrupt\u001b[0m: "
     ]
    }
   ],
   "source": [
    "comment_words = ''\n",
    "\n",
    "r_clean = clean_book.loc[~clean_book['review'].isnull()]\n",
    "for _, row in r_clean.iterrows():\n",
    "    review_list = row['review'].split(',')\n",
    "    for g in review_list:\n",
    "        #if g in stopwords:\n",
    "         #   review_list.remove(g)\n",
    "        g.replace(\" \", \"\")\n",
    "    comment_words += \" \".join(review_list) + \" \"\n",
    "\n",
    "wordcloud = WordCloud(width = 800, height = 800,\n",
    "                background_color ='white',\n",
    "                stopwords = r_clean.keys(),\n",
    "                min_font_size = 10).generate(comment_words)\n",
    " \n",
    "# plot the WordCloud image                      \n",
    "plt.figure(figsize = (8, 8), facecolor = None)\n",
    "plt.imshow(wordcloud)\n",
    "plt.axis(\"off\")\n",
    "plt.tight_layout(pad = 0)\n",
    " \n",
    "plt.show()"
   ]
  }
 ],
 "metadata": {
  "kernelspec": {
   "display_name": "Python 3.9.13 64-bit (microsoft store)",
   "language": "python",
   "name": "python3"
  },
  "language_info": {
   "codemirror_mode": {
    "name": "ipython",
    "version": 3
   },
   "file_extension": ".py",
   "mimetype": "text/x-python",
   "name": "python",
   "nbconvert_exporter": "python",
   "pygments_lexer": "ipython3",
   "version": "3.9.13"
  },
  "orig_nbformat": 4,
  "vscode": {
   "interpreter": {
    "hash": "347985429a9b7f6cf65bca758370600928313cf45b8f05cf08efea481e6f74dc"
   }
  }
 },
 "nbformat": 4,
 "nbformat_minor": 2
}
